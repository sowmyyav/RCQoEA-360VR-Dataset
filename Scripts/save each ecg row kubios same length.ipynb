{
 "cells": [
  {
   "cell_type": "code",
   "execution_count": 11,
   "metadata": {},
   "outputs": [],
   "source": [
    "import pandas as pd\n",
    "import os\n",
    "\n",
    "# Read the original CSV file\n",
    "df = pd.read_csv('C:/Users/Sowmya/QOE_CWI/Selected_PID_data/kubios_results/ECG_equal_length_data.csv')\n",
    "\n",
    "# Assuming your DataFrame has columns 'Participant' and 'Video_ID'\n",
    "for index, row in df.iterrows():\n",
    "    participant_id = row['Participant ID']\n",
    "    video_id = row['Video ID']\n",
    "\n",
    "    # Drop 'Participant' and 'Video_ID' columns\n",
    "    row = row.drop(['Participant ID', 'Video ID'])\n",
    "\n",
    "    # Specify the directory to save the files\n",
    "    directory = f'C:\\\\Users\\\\Sowmya\\\\QOE_CWI\\\\Selected_PID_data\\\\kubios_results'\n",
    "\n",
    "    # Create the directory if it doesn't exist\n",
    "    if not os.path.exists(directory):\n",
    "        os.makedirs(directory)\n",
    "\n",
    "    # Save the DataFrame to a CSV file named with participant and video ID\n",
    "    filename = f'ECG_P_{participant_id}_V_{video_id}.csv'\n",
    "    filepath = os.path.join(directory, filename)\n",
    "    row.to_csv(filepath, index=False)\n",
    "\n",
    "          "
   ]
  }
 ],
 "metadata": {
  "kernelspec": {
   "display_name": "TF2",
   "language": "python",
   "name": "python3"
  },
  "language_info": {
   "codemirror_mode": {
    "name": "ipython",
    "version": 3
   },
   "file_extension": ".py",
   "mimetype": "text/x-python",
   "name": "python",
   "nbconvert_exporter": "python",
   "pygments_lexer": "ipython3",
   "version": "0.0.0"
  }
 },
 "nbformat": 4,
 "nbformat_minor": 2
}
