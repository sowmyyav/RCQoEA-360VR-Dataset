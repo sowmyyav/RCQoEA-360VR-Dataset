{
 "cells": [
  {
   "cell_type": "code",
   "execution_count": 1,
   "metadata": {},
   "outputs": [
    {
     "name": "stdout",
     "output_type": "stream",
     "text": [
      "Requirement already satisfied: pyxdf in c:\\users\\aquar\\anaconda3\\envs\\tf2\\lib\\site-packages (1.16.4)\n",
      "Requirement already satisfied: numpy in c:\\users\\aquar\\anaconda3\\envs\\tf2\\lib\\site-packages (from pyxdf) (1.22.4)\n",
      "Note: you may need to restart the kernel to use updated packages.\n"
     ]
    }
   ],
   "source": [
    "pip install pyxdf"
   ]
  },
  {
   "cell_type": "code",
   "execution_count": 1,
   "metadata": {},
   "outputs": [
    {
     "name": "stdout",
     "output_type": "stream",
     "text": [
      "Collecting git+https://github.com/xdf-modules/pyxdf.git\n",
      "  Cloning https://github.com/xdf-modules/pyxdf.git to c:\\users\\aquar\\appdata\\local\\temp\\pip-req-build-3ileuc5t\n",
      "Note: you may need to restart the kernel to use updated packages.\n"
     ]
    },
    {
     "name": "stderr",
     "output_type": "stream",
     "text": [
      "  Running command git clone -q https://github.com/xdf-modules/pyxdf.git 'C:\\Users\\aquar\\AppData\\Local\\Temp\\pip-req-build-3ileuc5t'\n",
      "  ERROR: Error [WinError 2] The system cannot find the file specified while executing command git clone -q https://github.com/xdf-modules/pyxdf.git 'C:\\Users\\aquar\\AppData\\Local\\Temp\\pip-req-build-3ileuc5t'\n",
      "ERROR: Cannot find command 'git' - do you have 'git' installed and in your PATH?\n"
     ]
    }
   ],
   "source": [
    "pip install git+https://github.com/xdf-modules/pyxdf.git"
   ]
  },
  {
   "cell_type": "code",
   "execution_count": 2,
   "metadata": {},
   "outputs": [],
   "source": [
    "import pyxdf\n",
    "#sample code from link https://github.com/xdf-modules/pyxdf\n",
    "import matplotlib.pyplot as plt\n",
    "import numpy as np\n",
    "import pandas as pd"
   ]
  },
  {
   "cell_type": "code",
   "execution_count": 3,
   "metadata": {},
   "outputs": [],
   "source": [
    "data, header = pyxdf.load_xdf('C:/Users/Sowmya/QOE_CWI/Selected_PID_data/P11/sub-P11_ses-S1_task-Default_run-001_eeg.xdf')"
   ]
  },
  {
   "cell_type": "code",
   "execution_count": 4,
   "metadata": {},
   "outputs": [
    {
     "data": {
      "image/png": "[encoded data removed]",
      "text/plain": [
       "<Figure size 432x288 with 1 Axes>"
      ]
     },
     "metadata": {
      "needs_background": "light"
     },
     "output_type": "display_data"
    }
   ],
   "source": [
    "for stream in data:\n",
    "    y = stream['time_series']\n",
    "\n",
    "    if isinstance(y, list):\n",
    "        # list of strings, draw one vertical line for each marker\n",
    "        for timestamp, marker in zip(stream['time_stamps'], y):\n",
    "            plt.axvline(x=timestamp)\n",
    "            print(f'Marker \"{marker[0]}\" @ {timestamp:.2f}s')\n",
    "    elif isinstance(y, np.ndarray):\n",
    "        # numeric data, draw as lines\n",
    "        plt.plot(stream['time_stamps'], y)\n",
    "    else:\n",
    "        raise RuntimeError('Unknown stream format')\n",
    "\n",
    "plt.show()"
   ]
  },
  {
   "cell_type": "code",
   "execution_count": 5,
   "metadata": {},
   "outputs": [],
   "source": [
    "for stream in data:\n",
    "    y = stream['time_series']\n",
    "    t = stream[\"time_stamps\"]\n"
   ]
  },
  {
   "cell_type": "code",
   "execution_count": 6,
   "metadata": {},
   "outputs": [],
   "source": [
    "ecg_data_df_1 = pd.DataFrame(data)\n",
    "ecg_data_df = ecg_data_df_1[[\"time_stamps\", \"time_series\"]]\n",
    "x=ecg_data_df.reset_index(drop=True)\n"
   ]
  },
  {
   "cell_type": "code",
   "execution_count": 7,
   "metadata": {},
   "outputs": [],
   "source": [
    "for stream in data:\n",
    "    y_list = stream['time_series'].tolist()\n",
    "    t_list = stream[\"time_stamps\"].tolist()\n",
    "\n",
    "ecg_data_df = pd.DataFrame(list(zip(t,y)), columns= ('time','ECG'))\n",
    "\n"
   ]
  },
  {
   "cell_type": "code",
   "execution_count": 42,
   "metadata": {},
   "outputs": [],
   "source": [
    "ecg_data_df.to_csv(\"C:/Users/Sowmya/QOE_CWI/Recorded RCQoEA Data/Sowmya_csv.csv\")"
   ]
  }
 ],
 "metadata": {
  "kernelspec": {
   "display_name": "TF2",
   "language": "python",
   "name": "python3"
  },
  "language_info": {
   "codemirror_mode": {
    "name": "ipython",
    "version": 3
   },
   "file_extension": ".py",
   "mimetype": "text/x-python",
   "name": "python",
   "nbconvert_exporter": "python",
   "pygments_lexer": "ipython3",
   "version": "3.9.12"
  },
  "orig_nbformat": 4
 },
 "nbformat": 4,
 "nbformat_minor": 2
}
