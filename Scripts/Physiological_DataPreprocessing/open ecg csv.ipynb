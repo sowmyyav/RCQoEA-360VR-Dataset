{
 "cells": [
  {
   "cell_type": "code",
   "execution_count": 5,
   "metadata": {},
   "outputs": [],
   "source": [
    "\n",
    "\n",
    "import pandas as pd\n",
    "file_path = 'C:/Users/Sowmya/QOE_CWI/Selected_PID_data/P1/RCQoEA data/gsr_P1_10.csv'  # Replace with your file path\n",
    "\n",
    "# Read the CSV file into a pandas DataFrame\n",
    "gsr_data = pd.read_csv(file_path)\n",
    "\n",
    "\n",
    "file_path_2 = 'C:/Users/Sowmya/QOE_CWI/Selected_PID_data/P1/RCQoEA data/ecg_P1_10.csv'  # Replace with your file path\n",
    "\n",
    "# Read the CSV file into a pandas DataFrame\n",
    "ecg_data = pd.read_csv(file_path_2)\n",
    "\n"
   ]
  },
  {
   "cell_type": "code",
   "execution_count": null,
   "metadata": {},
   "outputs": [],
   "source": [
    "# Function to find the nearest timestamp in the CSV file\n",
    "def find_nearest_timestamp(csv_file, target_timestamp):\n",
    "    nearest_timestamp = None\n",
    "    min_difference = float('inf')\n",
    "\n",
    "    with open(csv_file, newline='') as file:\n",
    "        reader = csv.reader(file)\n",
    "        next(reader)  # Skip header if present\n",
    "\n",
    "        for row in reader:\n",
    "            # Assuming the timestamp is in the first column of each row\n",
    "            csv_timestamp = datetime.datetime.strptime(row[0], '%Y-%m-%d %H:%M:%S.%f')  # Adjust the datetime format as per your CSV\n",
    "\n",
    "            # Calculate the difference in timestamps\n",
    "            difference = abs(csv_timestamp - target_timestamp)\n",
    "\n",
    "            if difference < min_difference:\n",
    "                min_difference = difference\n",
    "                nearest_timestamp = csv_timestamp\n",
    "\n",
    "    return nearest_timestamp\n",
    "\n",
    "# Assuming you have 'year', 'month', 'date', 'hour', 'minute', and 'microsecond' variables\n",
    "target_timestamp = datetime.datetime(year, month, date, hour, minute, second=0, microsecond=microsecond)  # Create the target timestamp\n",
    "\n",
    "# Find the nearest timestamp to the target timestamp in the CSV file\n",
    "nearest_timestamp = find_nearest_timestamp('your_file.csv', target_timestamp)\n",
    "\n",
    "print(f\"The nearest timesta"
   ]
  }
 ],
 "metadata": {
  "kernelspec": {
   "display_name": "TF2",
   "language": "python",
   "name": "python3"
  },
  "language_info": {
   "codemirror_mode": {
    "name": "ipython",
    "version": 3
   },
   "file_extension": ".py",
   "mimetype": "text/x-python",
   "name": "python",
   "nbconvert_exporter": "python",
   "pygments_lexer": "ipython3",
   "version": "3.9.12"
  }
 },
 "nbformat": 4,
 "nbformat_minor": 2
}
