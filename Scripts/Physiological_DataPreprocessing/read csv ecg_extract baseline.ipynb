{
 "cells": [
  {
   "cell_type": "code",
   "execution_count": 1,
   "metadata": {},
   "outputs": [
    {
     "name": "stdout",
     "output_type": "stream",
     "text": [
      "Filtered data between 2023-08-10 09:10:00 and 2023-08-10 09:15:00 written to ecg_P14_baseline_2023_08_10 09_10_00.csv.\n"
     ]
    }
   ],
   "source": [
    "import os\n",
    "import csv\n",
    "import datetime\n",
    "\n",
    "file_path = 'C:/Users/Sowmya/QOE_CWI/Selected_PID_data/P14/P14_ECG_S1.csv'  # Replace with your file path\n",
    "timestamp_format = '%Y/%m/%d %H:%M:%S.%f'\n",
    "            \n",
    "with open(file_path, 'r') as file:\n",
    "    csv_reader = csv.reader(file, delimiter=',')  # Assuming tab-separated values\n",
    "    headers = next(csv_reader)  # Read the headers\n",
    "    #second_row_headers = next(csv_reader)  # Read the second row of headers\n",
    "    \n",
    "    data = []\n",
    "    for row in csv_reader:\n",
    "        timestamp_str = row[1]  # Assuming timestamp is in the first column\n",
    "        #timestamp_str1= timestamp_str.split(',')[1] \n",
    "        timestamp = datetime.datetime.strptime(timestamp_str, timestamp_format)\n",
    "        row[1] = timestamp\n",
    "        data.append(row)\n",
    "            \n",
    " \n",
    "from datetime import datetime\n",
    "\n",
    "# Define start time and stop time strings\n",
    "start_time_str = '2023/08/10 09:10:00'\n",
    "stop_time_str = '2023/08/10 09:15:00'\n",
    "\n",
    "# Convert strings to datetime objects\n",
    "start_time = datetime.strptime(start_time_str, '%Y/%m/%d %H:%M:%S')\n",
    "stop_time = datetime.strptime(stop_time_str, '%Y/%m/%d %H:%M:%S')\n",
    "\n",
    "\n",
    "# Initialize a list to store data between start and stop times\n",
    "filtered_data = []\n",
    "\n",
    "# Create the filename\n",
    "filename = f\"ecg_P14_baseline_{start_time_str}.csv\"\n",
    "# Replace invalid characters in the filename\n",
    "invalid_characters = ['/', ':']  # Add more invalid characters if needed\n",
    "for char in invalid_characters:\n",
    "    filename = filename.replace(char, '_')\n",
    "\n",
    "\n",
    "# Example directory path where the CSV file should be saved\n",
    "directory_path = \"C:/Users/Sowmya/QOE_CWI/Selected_PID_data/P14/RCQoEA data/\"\n",
    "\n",
    "# Combine the directory path and filename\n",
    "file_path = os.path.join(directory_path, filename)\n",
    "\n",
    "# Associate each data point with its corresponding timestamp\n",
    "for entry in data: # Get the timestamp from data\n",
    "    data_timestamp = entry[1]\n",
    "    data_value = entry[2].strip('[]')\n",
    "    # Remove milliseconds from the data timestamp\n",
    "    data_timestamp_without_ms = data_timestamp.replace(microsecond=0)\n",
    "    if start_time <= data_timestamp_without_ms  <= stop_time:\n",
    "        filtered_data.append([data_timestamp, data_value])\n",
    "\n",
    "# Write the filtered data to a CSV file\n",
    "        \n",
    "with open(file_path, 'w', newline='') as csvfile:\n",
    "    csv_writer = csv.writer(csvfile)\n",
    "    csv_writer.writerow(headers[1:])  # Write header\n",
    "    csv_writer.writerows(filtered_data)\n",
    "\n",
    "print(f\"Filtered data between {start_time} and {stop_time} written to {filename}.\")                \n",
    "\n",
    "            "
   ]
  }
 ],
 "metadata": {
  "kernelspec": {
   "display_name": "TF2",
   "language": "python",
   "name": "python3"
  },
  "language_info": {
   "codemirror_mode": {
    "name": "ipython",
    "version": 3
   },
   "file_extension": ".py",
   "mimetype": "text/x-python",
   "name": "python",
   "nbconvert_exporter": "python",
   "pygments_lexer": "ipython3",
   "version": "3.9.12"
  }
 },
 "nbformat": 4,
 "nbformat_minor": 2
}
