{
 "cells": [
  {
   "cell_type": "code",
   "execution_count": 15,
   "metadata": {},
   "outputs": [
    {
     "ename": "SyntaxError",
     "evalue": "invalid syntax (1840146126.py, line 2)",
     "output_type": "error",
     "traceback": [
      "\u001b[1;36m  Input \u001b[1;32mIn [15]\u001b[1;36m\u001b[0m\n\u001b[1;33m    pip install lxml\u001b[0m\n\u001b[1;37m        ^\u001b[0m\n\u001b[1;31mSyntaxError\u001b[0m\u001b[1;31m:\u001b[0m invalid syntax\n"
     ]
    }
   ],
   "source": [
    "#pip install pyxdf#\n"
   ]
  },
  {
   "cell_type": "code",
   "execution_count": 16,
   "metadata": {},
   "outputs": [
    {
     "name": "stdout",
     "output_type": "stream",
     "text": [
      "Collecting lxml\n",
      "  Downloading lxml-4.9.3-cp39-cp39-win_amd64.whl (3.9 MB)\n",
      "Installing collected packages: lxml\n",
      "Successfully installed lxml-4.9.3\n",
      "Note: you may need to restart the kernel to use updated packages.\n"
     ]
    }
   ],
   "source": [
    "#pip install lxml"
   ]
  },
  {
   "cell_type": "code",
   "execution_count": 1,
   "metadata": {},
   "outputs": [
    {
     "name": "stdout",
     "output_type": "stream",
     "text": [
      "Collecting git+https://github.com/xdf-modules/pyxdf.git\n",
      "  Cloning https://github.com/xdf-modules/pyxdf.git to c:\\users\\aquar\\appdata\\local\\temp\\pip-req-build-3ileuc5t\n",
      "Note: you may need to restart the kernel to use updated packages.\n"
     ]
    },
    {
     "name": "stderr",
     "output_type": "stream",
     "text": [
      "  Running command git clone -q https://github.com/xdf-modules/pyxdf.git 'C:\\Users\\aquar\\AppData\\Local\\Temp\\pip-req-build-3ileuc5t'\n",
      "  ERROR: Error [WinError 2] The system cannot find the file specified while executing command git clone -q https://github.com/xdf-modules/pyxdf.git 'C:\\Users\\aquar\\AppData\\Local\\Temp\\pip-req-build-3ileuc5t'\n",
      "ERROR: Cannot find command 'git' - do you have 'git' installed and in your PATH?\n"
     ]
    }
   ],
   "source": [
    "#pip install git+https://github.com/xdf-modules/pyxdf.git"
   ]
  },
  {
   "cell_type": "code",
   "execution_count": 1,
   "metadata": {},
   "outputs": [],
   "source": [
    "import pyxdf\n",
    "#sample code from link https://github.com/xdf-modules/pyxdf\n",
    "import matplotlib.pyplot as plt\n",
    "import numpy as np\n",
    "import pandas as pd"
   ]
  },
  {
   "cell_type": "code",
   "execution_count": 2,
   "metadata": {},
   "outputs": [],
   "source": [
    "data, header = pyxdf.load_xdf('C:/Users/Sowmya/QOE_CWI/Selected_PID_data/P11/sub-P11_ses-S1_task-Default_run-001_eeg.xdf')"
   ]
  },
  {
   "cell_type": "code",
   "execution_count": 3,
   "metadata": {},
   "outputs": [
    {
     "data": {
      "image/png": "[encoded data removed]",
      "text/plain": [
       "<Figure size 432x288 with 1 Axes>"
      ]
     },
     "metadata": {
      "needs_background": "light"
     },
     "output_type": "display_data"
    }
   ],
   "source": [
    "for stream in data:\n",
    "    y = stream['time_series']\n",
    "\n",
    "    if isinstance(y, list):\n",
    "        # list of strings, draw one vertical line for each marker\n",
    "        for timestamp, marker in zip(stream['time_stamps'], y):\n",
    "            plt.axvline(x=timestamp)\n",
    "            print(f'Marker \"{marker[0]}\" @ {timestamp:.2f}s')\n",
    "    elif isinstance(y, np.ndarray):\n",
    "        # numeric data, draw as lines\n",
    "        plt.plot(stream['time_stamps'], y)\n",
    "    else:\n",
    "        raise RuntimeError('Unknown stream format')\n",
    "\n",
    "plt.show()"
   ]
  },
  {
   "cell_type": "code",
   "execution_count": 4,
   "metadata": {},
   "outputs": [],
   "source": [
    "for stream in data:\n",
    "    y = stream['time_series']\n",
    "    t = stream[\"time_stamps\"]\n",
    "    \n"
   ]
  },
  {
   "cell_type": "code",
   "execution_count": 5,
   "metadata": {},
   "outputs": [
    {
     "name": "stdout",
     "output_type": "stream",
     "text": [
      "defaultdict(<class 'list'>, {'name': ['Polar H10 BFA24F21'], 'type': ['ECG'], 'channel_count': ['1'], 'channel_format': ['float32'], 'source_id': ['myuid2424'], 'nominal_srate': ['130.0000000000000'], 'version': ['1.100000000000000'], 'created_at': ['9699.451994999999'], 'uid': ['1a600a85-b6e7-4994-99ef-954bc8255a26'], 'session_id': ['default'], 'hostname': ['DESKTOP-UGL4IEM'], 'v4address': [None], 'v4data_port': ['16572'], 'v4service_port': ['16572'], 'v6address': [None], 'v6data_port': ['16572'], 'v6service_port': ['16572'], 'desc': [defaultdict(<class 'list'>, {'manufacturer': ['Polar'], 'channels': [defaultdict(<class 'list'>, {'channel': [defaultdict(<class 'list'>, {'name': ['ECG'], 'unit': ['microvolts'], 'type': ['ECG']})]})]})], 'stream_id': 1, 'effective_srate': 130.03343819721346})\n",
      "Value 1: Polar H10 BFA24F21\n",
      "Value 2: ECG\n",
      "Value 3: 1\n",
      "Value 4: float32\n",
      "Value 5: myuid2424\n",
      "Value 6: 130.0000000000000\n",
      "Value 7: 1.100000000000000\n",
      "Value 8: 9699.451994999999\n",
      "Value 9: 1a600a85-b6e7-4994-99ef-954bc8255a26\n",
      "Value 10: default\n",
      "Value 11: DESKTOP-UGL4IEM\n",
      "Value 12: None\n",
      "Value 13: 16572\n",
      "Value 14: 16572\n",
      "Value 15: None\n",
      "Value 16: 16572\n",
      "Value 17: 16572\n",
      "Value 18: defaultdict(<class 'list'>, {'manufacturer': ['Polar'], 'channels': [defaultdict(<class 'list'>, {'channel': [defaultdict(<class 'list'>, {'name': ['ECG'], 'unit': ['microvolts'], 'type': ['ECG']})]})]})\n"
     ]
    }
   ],
   "source": [
    "from collections import defaultdict\n",
    "info = data[0]['info']\n",
    "print(info)\n",
    "\n",
    "def extract_values(data):\n",
    "    values = []\n",
    "    for key, value in data.items():\n",
    "        if isinstance(value, list) and len(value) == 1:\n",
    "            values.extend(value)  # Append single-value lists to 'values'\n",
    "        elif isinstance(value, dict) or isinstance(value, defaultdict):\n",
    "            values.extend(extract_values(value))  # Recursively call for nested structures\n",
    "    return values\n",
    "\n",
    "# Get all values from the nested structure\n",
    "all_values = extract_values(info)\n",
    "\n",
    "# Display all extracted values\n",
    "for index, value in enumerate(all_values, start=1):\n",
    "    print(f\"Value {index}: {value}\")"
   ]
  },
  {
   "cell_type": "code",
   "execution_count": 6,
   "metadata": {},
   "outputs": [
    {
     "name": "stdout",
     "output_type": "stream",
     "text": [
      "first_timestamp\n",
      "9731.775606200001\n",
      "defaultdict(<class 'list'>, {'offset': [defaultdict(<class 'list'>, {'time': ['9723.6755851'], 'value': ['6.000009307172149e-07']}), defaultdict(<class 'list'>, {'time': ['9728.67573155'], 'value': ['-5.500005499925464e-07']}), defaultdict(<class 'list'>, {'time': ['9733.675932800001'], 'value': ['1.999997039092705e-07']}), defaultdict(<class 'list'>, {'time': ['9738.6761307'], 'value': ['-8.999995770864189e-07']}), defaultdict(<class 'list'>, {'time': ['9743.67929625'], 'value': ['1.164999957836699e-05']}), defaultdict(<class 'list'>, {'time': ['9748.6859623'], 'value': ['-4.600000465870835e-06']}), defaultdict(<class 'list'>, {'time': ['9753.699982849999'], 'value': ['-4.249999619787559e-06']}), defaultdict(<class 'list'>, {'time': ['9758.714485500001'], 'value': ['-3.190000006725313e-05']}), defaultdict(<class 'list'>, {'time': ['9763.72892765'], 'value': ['-1.105000046663918e-05']}), defaultdict(<class 'list'>, {'time': ['9768.73284805'], 'value': ['1.354999949398916e-05']}), defaultdict(<class 'list'>, {'time': ['9773.734602100001'], 'value': ['1.869999960035784e-05']}), defaultdict(<class 'list'>, {'time': ['9778.740552700001'], 'value': ['-9.599999430065509e-06']}), defaultdict(<class 'list'>, {'time': ['9783.7503999'], 'value': ['2.069999936793465e-05']}), defaultdict(<class 'list'>, {'time': ['9788.7589788'], 'value': ['-2.620000032038661e-05']}), defaultdict(<class 'list'>, {'time': ['9793.764388800002'], 'value': ['-1.620000057300786e-05']}), defaultdict(<class 'list'>, {'time': ['9798.764976450002'], 'value': ['-1.355000131297857e-05']}), defaultdict(<class 'list'>, {'time': ['9803.772856650001'], 'value': ['-5.499996404978447e-07']}), defaultdict(<class 'list'>, {'time': ['9808.78203115'], 'value': ['-1.525000061519677e-05']}), defaultdict(<class 'list'>, {'time': ['9813.794598899998'], 'value': ['-9.899998985929415e-06']}), defaultdict(<class 'list'>, {'time': ['9818.79915975'], 'value': ['-1.05500002973713e-05']}), defaultdict(<class 'list'>, {'time': ['9823.80419535'], 'value': ['-1.114999940909911e-05']}), defaultdict(<class 'list'>, {'time': ['9828.806421699999'], 'value': ['-1.040000006469199e-05']}), defaultdict(<class 'list'>, {'time': ['9833.807682799999'], 'value': ['-8.099999831756577e-06']}), defaultdict(<class 'list'>, {'time': ['9838.8215365'], 'value': ['-1.089999932446517e-05']}), defaultdict(<class 'list'>, {'time': ['9843.833630100002'], 'value': ['-1.500000053056283e-05']}), defaultdict(<class 'list'>, {'time': ['9848.848247649999'], 'value': ['-1.075000091077527e-05']}), defaultdict(<class 'list'>, {'time': ['9853.86163635'], 'value': ['-1.05500002973713e-05']}), defaultdict(<class 'list'>, {'time': ['9858.869224550001'], 'value': ['-9.549999958835542e-06']}), defaultdict(<class 'list'>, {'time': ['9863.882168099999'], 'value': ['-9.299999874201603e-06']}), defaultdict(<class 'list'>, {'time': ['9868.89101915'], 'value': ['-9.649999810790177e-06']}), defaultdict(<class 'list'>, {'time': ['9873.89974665'], 'value': ['-9.149999641522299e-06']}), defaultdict(<class 'list'>, {'time': ['9878.902504199999'], 'value': ['-1.21000002764049e-05']}), defaultdict(<class 'list'>, {'time': ['9883.911138199999'], 'value': ['-1.100000008591451e-05']}), defaultdict(<class 'list'>, {'time': ['9888.915242250001'], 'value': ['-6.750000466126949e-06']}), defaultdict(<class 'list'>, {'time': ['9893.923877249999'], 'value': ['-1.454999892303022e-05']}), defaultdict(<class 'list'>, {'time': ['9898.93029145'], 'value': ['-1.094999970518984e-05']}), defaultdict(<class 'list'>, {'time': ['9903.936666649999'], 'value': ['-6.949999260541517e-06']}), defaultdict(<class 'list'>, {'time': ['9908.939566300001'], 'value': ['-9.40000063565094e-06']}), defaultdict(<class 'list'>, {'time': ['9913.9427576'], 'value': ['-7.399999958579428e-06']}), defaultdict(<class 'list'>, {'time': ['9918.946678600001'], 'value': ['-8.50000014906982e-06']}), defaultdict(<class 'list'>, {'time': ['9923.948761649999'], 'value': ['-1.144999987445772e-05']}), defaultdict(<class 'list'>, {'time': ['9928.953362'], 'value': ['-1.130000055127311e-05']}), defaultdict(<class 'list'>, {'time': ['9933.9690386'], 'value': ['-1.020000036078272e-05']}), defaultdict(<class 'list'>, {'time': ['9938.976329950001'], 'value': ['-1.235000127053354e-05']}), defaultdict(<class 'list'>, {'time': ['9943.99074505'], 'value': ['-1.065000014932593e-05']}), defaultdict(<class 'list'>, {'time': ['9949.006181550001'], 'value': ['-1.275000067835208e-05']}), defaultdict(<class 'list'>, {'time': ['9954.019841150002'], 'value': ['-7.85000065661734e-06']}), defaultdict(<class 'list'>, {'time': ['9959.0335442'], 'value': ['-8.50000014906982e-06']}), defaultdict(<class 'list'>, {'time': ['9964.035819949999'], 'value': ['-1.254999915545341e-05']}), defaultdict(<class 'list'>, {'time': ['9969.041911200002'], 'value': ['-1.38000004881178e-05']}), defaultdict(<class 'list'>, {'time': ['9974.045229899999'], 'value': ['-8.799999704933725e-06']}), defaultdict(<class 'list'>, {'time': ['9979.051289250001'], 'value': ['-1.255000006494811e-05']}), defaultdict(<class 'list'>, {'time': ['9984.065367700001'], 'value': ['-1.100000008591451e-05']}), defaultdict(<class 'list'>, {'time': ['9989.075376700001'], 'value': ['-8.799999704933725e-06']}), defaultdict(<class 'list'>, {'time': ['9994.082965950001'], 'value': ['-1.805000010790536e-05']}), defaultdict(<class 'list'>, {'time': ['9999.084687999999'], 'value': ['-1.459999930375488e-05']}), defaultdict(<class 'list'>, {'time': ['10004.09851785'], 'value': ['-1.115000031859381e-05']}), defaultdict(<class 'list'>, {'time': ['10009.1049791'], 'value': ['-1.709999924059957e-05']}), defaultdict(<class 'list'>, {'time': ['10014.1053783'], 'value': ['-9.000000318337698e-06']}), defaultdict(<class 'list'>, {'time': ['10019.11193295'], 'value': ['-1.335000069957459e-05']}), defaultdict(<class 'list'>, {'time': ['10024.1264678'], 'value': ['-9.700000191514846e-06']}), defaultdict(<class 'list'>, {'time': ['10029.14160365'], 'value': ['-8.349999916390516e-06']}), defaultdict(<class 'list'>, {'time': ['10034.155413'], 'value': ['-1.939999947353499e-05']}), defaultdict(<class 'list'>, {'time': ['10039.16394215'], 'value': ['-1.175000033981632e-05']}), defaultdict(<class 'list'>, {'time': ['10044.17198085'], 'value': ['-8.149999302986544e-06']}), defaultdict(<class 'list'>, {'time': ['10049.1836878'], 'value': ['-9.99999883788405e-06']}), defaultdict(<class 'list'>, {'time': ['10054.1961165'], 'value': ['-8.199999683711212e-06']}), defaultdict(<class 'list'>, {'time': ['10059.2077468'], 'value': ['-1.530000008642673e-05']}), defaultdict(<class 'list'>, {'time': ['10064.2127702'], 'value': ['-8.100000741251279e-06']}), defaultdict(<class 'list'>, {'time': ['10069.22000005'], 'value': ['-1.22500005090842e-05']}), defaultdict(<class 'list'>, {'time': ['10074.2276655'], 'value': ['-7.99999907030724e-06']}), defaultdict(<class 'list'>, {'time': ['10079.23096015'], 'value': ['-7.749999895168003e-06']}), defaultdict(<class 'list'>, {'time': ['10084.24376435'], 'value': ['-1.19500009532203e-05']}), defaultdict(<class 'list'>, {'time': ['10089.2470203'], 'value': ['-9.699999282020144e-06']}), defaultdict(<class 'list'>, {'time': ['10094.2583923'], 'value': ['-1.089999932446517e-05']}), defaultdict(<class 'list'>, {'time': ['10099.26256965'], 'value': ['-1.075000091077527e-05']}), defaultdict(<class 'list'>, {'time': ['10104.27159975'], 'value': ['-1.454999983252492e-05']}), defaultdict(<class 'list'>, {'time': ['10109.28056575'], 'value': ['-1.094999970518984e-05']}), defaultdict(<class 'list'>, {'time': ['10114.2897962'], 'value': ['-9.600000339560211e-06']}), defaultdict(<class 'list'>, {'time': ['10119.2937271'], 'value': ['-1.37999995786231e-05']}), defaultdict(<class 'list'>, {'time': ['10124.30508665'], 'value': ['-1.50500000017928e-05']}), defaultdict(<class 'list'>, {'time': ['10129.3194269'], 'value': ['-9.700000191514846e-06']}), defaultdict(<class 'list'>, {'time': ['10134.33319325'], 'value': ['-1.454999983252492e-05']}), defaultdict(<class 'list'>, {'time': ['10139.3432489'], 'value': ['-8.899999556888361e-06']}), defaultdict(<class 'list'>, {'time': ['10144.34713905'], 'value': ['-1.135000002250308e-05']}), defaultdict(<class 'list'>, {'time': ['10149.34969795'], 'value': ['-8.749999324209057e-06']}), defaultdict(<class 'list'>, {'time': ['10154.36282995'], 'value': ['-1.384999904985307e-05']}), defaultdict(<class 'list'>, {'time': ['10159.377519'], 'value': ['-8.799999704933725e-06']}), defaultdict(<class 'list'>, {'time': ['10164.38298705'], 'value': ['-9.950000276148785e-06']}), defaultdict(<class 'list'>, {'time': ['10169.39364525'], 'value': ['-1.015000088955276e-05']}), defaultdict(<class 'list'>, {'time': ['10174.39525205'], 'value': ['-9.750000572239514e-06']}), defaultdict(<class 'list'>, {'time': ['10179.40028025'], 'value': ['-1.264999991690274e-05']}), defaultdict(<class 'list'>, {'time': ['10184.40359925'], 'value': ['-1.035000059346203e-05']}), defaultdict(<class 'list'>, {'time': ['10189.4139689'], 'value': ['-9.40000063565094e-06']}), defaultdict(<class 'list'>, {'time': ['10194.4292944'], 'value': ['-1.200000042445026e-05']}), defaultdict(<class 'list'>, {'time': ['10199.4386426'], 'value': ['-1.450000036129495e-05']}), defaultdict(<class 'list'>, {'time': ['10204.44369185'], 'value': ['-9.750000572239514e-06']}), defaultdict(<class 'list'>, {'time': ['10209.44488235'], 'value': ['-3.549999746610411e-06']}), defaultdict(<class 'list'>, {'time': ['10214.45926645'], 'value': ['-9.650000720284879e-06']}), defaultdict(<class 'list'>, {'time': ['10219.46743475'], 'value': ['-4.550000994640868e-06']}), defaultdict(<class 'list'>, {'time': ['10224.4692212'], 'value': ['-6.100000064179767e-06']}), defaultdict(<class 'list'>, {'time': ['10229.47527655'], 'value': ['-7.749999895168003e-06']}), defaultdict(<class 'list'>, {'time': ['10234.48856985'], 'value': ['-3.449999894655775e-06']}), defaultdict(<class 'list'>, {'time': ['10239.4937047'], 'value': ['-6.300000677583739e-06']}), defaultdict(<class 'list'>, {'time': ['10244.50758275'], 'value': ['-6.849999408586882e-06']}), defaultdict(<class 'list'>, {'time': ['10249.52013595'], 'value': ['-1.405000148224644e-05']}), defaultdict(<class 'list'>, {'time': ['10254.52224335'], 'value': ['-7.249999725900125e-06']}), defaultdict(<class 'list'>, {'time': ['10259.5343595'], 'value': ['-8.50000014906982e-06']}), defaultdict(<class 'list'>, {'time': ['10264.5357025'], 'value': ['-6.999999641266186e-06']}), defaultdict(<class 'list'>, {'time': ['10269.54531205'], 'value': ['-2.050000148301478e-06']}), defaultdict(<class 'list'>, {'time': ['10274.5560142'], 'value': ['-7.399999958579428e-06']}), defaultdict(<class 'list'>, {'time': ['10279.56696385'], 'value': ['-3.35000004270114e-06']}), defaultdict(<class 'list'>, {'time': ['10284.57222855'], 'value': ['-1.495000014983816e-05']}), defaultdict(<class 'list'>, {'time': ['10289.5828799'], 'value': ['-1.129999964177841e-05']}), defaultdict(<class 'list'>, {'time': ['10294.59710455'], 'value': ['-1.474999862693949e-05']}), defaultdict(<class 'list'>, {'time': ['10299.60639675'], 'value': ['-9.750000572239514e-06']}), defaultdict(<class 'list'>, {'time': ['10304.6176054'], 'value': ['-9.899999895424116e-06']}), defaultdict(<class 'list'>, {'time': ['10309.62987045'], 'value': ['-7.450000339304097e-06']}), defaultdict(<class 'list'>, {'time': ['10314.6350914'], 'value': ['-5.799999598821159e-06']}), defaultdict(<class 'list'>, {'time': ['10319.6463772'], 'value': ['-1.099999917641981e-05']}), defaultdict(<class 'list'>, {'time': ['10324.65588655'], 'value': ['-8.349999916390516e-06']}), defaultdict(<class 'list'>, {'time': ['10329.66606715'], 'value': ['-6.850000318081584e-06']}), defaultdict(<class 'list'>, {'time': ['10334.67296845'], 'value': ['-4.849999641010072e-06']}), defaultdict(<class 'list'>, {'time': ['10339.6743432'], 'value': ['-3.500000275380444e-06']}), defaultdict(<class 'list'>, {'time': ['10344.6835451'], 'value': ['-1.049999991664663e-05']}), defaultdict(<class 'list'>, {'time': ['10349.684086'], 'value': ['-2.599998879304621e-06']}), defaultdict(<class 'list'>, {'time': ['10354.6941253'], 'value': ['-1.509999947302276e-05']}), defaultdict(<class 'list'>, {'time': ['10359.6969557'], 'value': ['-5.299999429553282e-06']}), defaultdict(<class 'list'>, {'time': ['10364.70787695'], 'value': ['-8.049999451031908e-06']}), defaultdict(<class 'list'>, {'time': ['10369.710337'], 'value': ['-1.160000010713702e-05']}), defaultdict(<class 'list'>, {'time': ['10374.71042325'], 'value': ['-3.950000063923653e-06']}), defaultdict(<class 'list'>, {'time': ['10379.71606195'], 'value': ['-7.950000508571975e-06']}), defaultdict(<class 'list'>, {'time': ['10384.7183166'], 'value': ['-1.089999932446517e-05']}), defaultdict(<class 'list'>, {'time': ['10389.7256456'], 'value': ['-1.510000038251746e-05']}), defaultdict(<class 'list'>, {'time': ['10394.7350303'], 'value': ['-6.899999789311551e-06']}), defaultdict(<class 'list'>, {'time': ['10399.7426108'], 'value': ['-1.229999907081947e-05']}), defaultdict(<class 'list'>, {'time': ['10404.7573756'], 'value': ['-8.69999985297909e-06']}), defaultdict(<class 'list'>, {'time': ['10409.75754395'], 'value': ['-1.264999991690274e-05']}), defaultdict(<class 'list'>, {'time': ['10414.76531875'], 'value': ['-2.849999873433262e-06']}), defaultdict(<class 'list'>, {'time': ['10419.77297545'], 'value': ['-5.849999979545828e-06']}), defaultdict(<class 'list'>, {'time': ['10424.78607315'], 'value': ['-7.749999895168003e-06']}), defaultdict(<class 'list'>, {'time': ['10429.792915'], 'value': ['-1.510000038251746e-05']}), defaultdict(<class 'list'>, {'time': ['10434.80034225'], 'value': ['-1.334999979007989e-05']}), defaultdict(<class 'list'>, {'time': ['10439.80606155'], 'value': ['-8.850000085658394e-06']}), defaultdict(<class 'list'>, {'time': ['10444.8110355'], 'value': ['-1.269999938813271e-05']}), defaultdict(<class 'list'>, {'time': ['10449.8202353'], 'value': ['-7.99999907030724e-06']}), defaultdict(<class 'list'>, {'time': ['10454.82087705'], 'value': ['-6.550000762217678e-06']}), defaultdict(<class 'list'>, {'time': ['10459.83346535'], 'value': ['-3.650000508059748e-06']}), defaultdict(<class 'list'>, {'time': ['10464.84650275'], 'value': ['-5.650000275636557e-06']}), defaultdict(<class 'list'>, {'time': ['10469.85280565'], 'value': ['-1.08499998532352e-05']}), defaultdict(<class 'list'>, {'time': ['10474.8585582'], 'value': ['-7.700000423938036e-06']}), defaultdict(<class 'list'>, {'time': ['10479.87410735'], 'value': ['-4.249999619787559e-06']}), defaultdict(<class 'list'>, {'time': ['10484.8828973'], 'value': ['-7.599999662488699e-06']}), defaultdict(<class 'list'>, {'time': ['10489.89317095'], 'value': ['-1.175000124931103e-05']}), defaultdict(<class 'list'>, {'time': ['10494.90401955'], 'value': ['-5.050000254414044e-06']}), defaultdict(<class 'list'>, {'time': ['10499.9105562'], 'value': ['-5.799999598821159e-06']}), defaultdict(<class 'list'>, {'time': ['10504.9131605'], 'value': ['-6.000000212225132e-06']}), defaultdict(<class 'list'>, {'time': ['10509.9224357'], 'value': ['-1.080000038200524e-05']}), defaultdict(<class 'list'>, {'time': ['10514.93135275'], 'value': ['-1.014999998005806e-05']}), defaultdict(<class 'list'>, {'time': ['10519.94528225'], 'value': ['-4.449999323696829e-06']}), defaultdict(<class 'list'>, {'time': ['10524.95053445'], 'value': ['-8.850000085658394e-06']}), defaultdict(<class 'list'>, {'time': ['10529.956643'], 'value': ['-6.899999789311551e-06']}), defaultdict(<class 'list'>, {'time': ['10534.96467715'], 'value': ['-8.049999451031908e-06']}), defaultdict(<class 'list'>, {'time': ['10539.9736107'], 'value': ['-8.69999985297909e-06']}), defaultdict(<class 'list'>, {'time': ['10544.9863528'], 'value': ['-5.800000508315861e-06']}), defaultdict(<class 'list'>, {'time': ['10549.99567575'], 'value': ['-1.685000006546034e-05']}), defaultdict(<class 'list'>, {'time': ['10555.0037153'], 'value': ['-1.799999154172838e-06']}), defaultdict(<class 'list'>, {'time': ['10560.00730635'], 'value': ['-1.024999983201269e-05']}), defaultdict(<class 'list'>, {'time': ['10565.0183471'], 'value': ['-4.499999704421498e-06']}), defaultdict(<class 'list'>, {'time': ['10570.0260203'], 'value': ['-9.599999430065509e-06']}), defaultdict(<class 'list'>, {'time': ['10575.03706265'], 'value': ['-1.145000078395242e-05']}), defaultdict(<class 'list'>, {'time': ['10580.038263'], 'value': ['-5.800000508315861e-06']}), defaultdict(<class 'list'>, {'time': ['10585.04499285'], 'value': ['-1.164999957836699e-05']}), defaultdict(<class 'list'>, {'time': ['10590.05196155'], 'value': ['-9.450000106880907e-06']}), defaultdict(<class 'list'>, {'time': ['10595.0543911'], 'value': ['-4.100000296602957e-06']}), defaultdict(<class 'list'>, {'time': ['10600.06674365'], 'value': ['-1.850000444392208e-06']}), defaultdict(<class 'list'>, {'time': ['10605.07245385'], 'value': ['-1.349999365629628e-06']}), defaultdict(<class 'list'>, {'time': ['10610.07524735'], 'value': ['-6.0500005929498e-06']}), defaultdict(<class 'list'>, {'time': ['10615.08049055'], 'value': ['-1.874999998108251e-05']}), defaultdict(<class 'list'>, {'time': ['10620.08309765'], 'value': ['-3.85000112146372e-06']}), defaultdict(<class 'list'>, {'time': ['10625.08412125'], 'value': ['-9.85000042419415e-06']}), defaultdict(<class 'list'>, {'time': ['10630.08529035'], 'value': ['-8.150000212481245e-06']}), defaultdict(<class 'list'>, {'time': ['10635.0899961'], 'value': ['-9.999999747378752e-06']}), defaultdict(<class 'list'>, {'time': ['10640.09714115'], 'value': ['-6.750000466126949e-06']}), defaultdict(<class 'list'>, {'time': ['10645.1097407'], 'value': ['-1.000000065687345e-05']}), defaultdict(<class 'list'>, {'time': ['10650.1239939'], 'value': ['-6.099999154685065e-06']}), defaultdict(<class 'list'>, {'time': ['10655.13383465'], 'value': ['-8.05000036052661e-06']}), defaultdict(<class 'list'>, {'time': ['10660.14479515'], 'value': ['-1.425000027666101e-05']}), defaultdict(<class 'list'>, {'time': ['10665.1474683'], 'value': ['-7.800000275892671e-06']}), defaultdict(<class 'list'>, {'time': ['10670.15779465'], 'value': ['-4.849999641010072e-06']}), defaultdict(<class 'list'>, {'time': ['10675.16714305'], 'value': ['-1.004999921860872e-05']}), defaultdict(<class 'list'>, {'time': ['10680.1772542'], 'value': ['-5.900000360270496e-06']}), defaultdict(<class 'list'>, {'time': ['10685.18697255'], 'value': ['-8.349999916390516e-06']}), defaultdict(<class 'list'>, {'time': ['10690.1931499'], 'value': ['-6.499999471998308e-06']}), defaultdict(<class 'list'>, {'time': ['10695.19593845'], 'value': ['-7.499993444071151e-07']}), defaultdict(<class 'list'>, {'time': ['10700.21138615'], 'value': ['-5.949999831500463e-06']}), defaultdict(<class 'list'>, {'time': ['10705.2117853'], 'value': ['-1.080000038200524e-05']}), defaultdict(<class 'list'>, {'time': ['10710.22204065'], 'value': ['-1.065000014932593e-05']}), defaultdict(<class 'list'>, {'time': ['10715.22924595'], 'value': ['-3.850000211969018e-06']}), defaultdict(<class 'list'>, {'time': ['10720.24405045'], 'value': ['-7.550000191258732e-06']}), defaultdict(<class 'list'>, {'time': ['10725.2580771'], 'value': ['-4.600000465870835e-06']}), defaultdict(<class 'list'>, {'time': ['10730.26600735'], 'value': ['-1.385000086884247e-05']}), defaultdict(<class 'list'>, {'time': ['10735.2681437'], 'value': ['-1.420000080543105e-05']}), defaultdict(<class 'list'>, {'time': ['10740.28053705'], 'value': ['-1.025000074150739e-05']}), defaultdict(<class 'list'>, {'time': ['10745.286573'], 'value': ['-7.700001333432738e-06']}), defaultdict(<class 'list'>, {'time': ['10750.2986573'], 'value': ['-1.320000046689529e-05']}), defaultdict(<class 'list'>, {'time': ['10755.31246855'], 'value': ['-5.250000867818017e-06']}), defaultdict(<class 'list'>, {'time': ['10760.3272251'], 'value': ['-1.169999904959695e-05']}), defaultdict(<class 'list'>, {'time': ['10765.32734265'], 'value': ['-9.849999514699448e-06']}), defaultdict(<class 'list'>, {'time': ['10770.33375305'], 'value': ['-1.08499998532352e-05']}), defaultdict(<class 'list'>, {'time': ['10775.33890015'], 'value': ['-9.149999641522299e-06']}), defaultdict(<class 'list'>, {'time': ['10780.3466055'], 'value': ['-5.500000042957254e-06']}), defaultdict(<class 'list'>, {'time': ['10785.3581145'], 'value': ['-6.799999937356915e-06']}), defaultdict(<class 'list'>, {'time': ['10790.36983615'], 'value': ['-7.450000339304097e-06']}), defaultdict(<class 'list'>, {'time': ['10795.37624265'], 'value': ['-1.125000017054845e-05']}), defaultdict(<class 'list'>, {'time': ['10800.3819622'], 'value': ['-4.799999260285404e-06']}), defaultdict(<class 'list'>, {'time': ['10805.3941592'], 'value': ['-8.000000889296643e-06']}), defaultdict(<class 'list'>, {'time': ['10810.40639465'], 'value': ['-8.650000381749123e-06']}), defaultdict(<class 'list'>, {'time': ['10815.4199426'], 'value': ['-4.000000444648322e-06']}), defaultdict(<class 'list'>, {'time': ['10820.42884015'], 'value': ['-1.184999928227626e-05']}), defaultdict(<class 'list'>, {'time': ['10825.4402943'], 'value': ['-9.200000022246968e-06']}), defaultdict(<class 'list'>, {'time': ['10830.4428154'], 'value': ['-8.400000297115184e-06']}), defaultdict(<class 'list'>, {'time': ['10835.4445952'], 'value': ['-2.699998731259257e-06']}), defaultdict(<class 'list'>, {'time': ['10840.4503234'], 'value': ['-5.000000783184078e-06']}), defaultdict(<class 'list'>, {'time': ['10845.46244815'], 'value': ['-1.034999968396733e-05']}), defaultdict(<class 'list'>, {'time': ['10850.46906565'], 'value': ['-7.34999957785476e-06']}), defaultdict(<class 'list'>, {'time': ['10855.4725183'], 'value': ['-1.720000000204891e-05']}), defaultdict(<class 'list'>, {'time': ['10860.48286415'], 'value': ['-8.750000233703759e-06']}), defaultdict(<class 'list'>, {'time': ['10865.4924891'], 'value': ['-1.280000014958205e-05']}), defaultdict(<class 'list'>, {'time': ['10870.5054627'], 'value': ['-4.999999873689376e-06']}), defaultdict(<class 'list'>, {'time': ['10875.5187603'], 'value': ['-5.100000635138713e-06']}), defaultdict(<class 'list'>, {'time': ['10880.52300985'], 'value': ['-1.034999968396733e-05']}), defaultdict(<class 'list'>, {'time': ['10885.53771075'], 'value': ['-4.350000381236896e-06']}), defaultdict(<class 'list'>, {'time': ['10890.5507366'], 'value': ['-8.200000593205914e-06']}), defaultdict(<class 'list'>, {'time': ['10895.5645267'], 'value': ['-5.600000804406591e-06']}), defaultdict(<class 'list'>, {'time': ['10900.56874055'], 'value': ['-9.950000276148785e-06']}), defaultdict(<class 'list'>, {'time': ['10905.57979905'], 'value': ['-7.450000339304097e-06']}), defaultdict(<class 'list'>, {'time': ['10910.5937635'], 'value': ['-9.900000804918818e-06']}), defaultdict(<class 'list'>, {'time': ['10915.5974899'], 'value': ['-6.000000212225132e-07']}), defaultdict(<class 'list'>, {'time': ['10920.6030305'], 'value': ['-7.600000571983401e-06']}), defaultdict(<class 'list'>, {'time': ['10925.61727185'], 'value': ['-3.749999450519681e-06']}), defaultdict(<class 'list'>, {'time': ['10930.62711445'], 'value': ['-1.08499998532352e-05']}), defaultdict(<class 'list'>, {'time': ['10935.6344101'], 'value': ['-1.549999979033601e-05']}), defaultdict(<class 'list'>, {'time': ['10940.6477946'], 'value': ['-5.000000783184078e-06']}), defaultdict(<class 'list'>, {'time': ['10945.6571704'], 'value': ['-1.139999949373305e-05']}), defaultdict(<class 'list'>, {'time': ['10950.66295105'], 'value': ['-6.250000296859071e-06']}), defaultdict(<class 'list'>, {'time': ['10955.66726775'], 'value': ['-7.650000043213367e-06']}), defaultdict(<class 'list'>, {'time': ['10960.6732292'], 'value': ['-1.340000017080456e-05']}), defaultdict(<class 'list'>, {'time': ['10965.68342335'], 'value': ['-1.294999947276665e-05']}), defaultdict(<class 'list'>, {'time': ['10970.6857012'], 'value': ['-7.600000571983401e-06']}), defaultdict(<class 'list'>, {'time': ['10975.68831365'], 'value': ['-9.249999493476935e-06']}), defaultdict(<class 'list'>, {'time': ['10980.6997031'], 'value': ['-1.320000046689529e-05']}), defaultdict(<class 'list'>, {'time': ['10985.7057302'], 'value': ['-8.099999831756577e-06']}), defaultdict(<class 'list'>, {'time': ['10990.71696655'], 'value': ['-9.450000106880907e-06']}), defaultdict(<class 'list'>, {'time': ['10995.73177275'], 'value': ['-8.149999302986544e-06']}), defaultdict(<class 'list'>, {'time': ['11000.7440103'], 'value': ['-6.299999768089037e-06']}), defaultdict(<class 'list'>, {'time': ['11005.7482758'], 'value': ['-1.179999981104629e-05']}), defaultdict(<class 'list'>, {'time': ['11010.76214655'], 'value': ['-8.650000381749123e-06']}), defaultdict(<class 'list'>, {'time': ['11015.76435995'], 'value': ['-7.350000487349462e-06']}), defaultdict(<class 'list'>, {'time': ['11020.77961845'], 'value': ['-1.36500002554385e-05']}), defaultdict(<class 'list'>, {'time': ['11025.78640665'], 'value': ['-5.449999662232585e-06']}), defaultdict(<class 'list'>, {'time': ['11030.78793365'], 'value': ['-1.05500002973713e-05']}), defaultdict(<class 'list'>, {'time': ['11035.7925684'], 'value': ['-9.399999726156238e-06']}), defaultdict(<class 'list'>, {'time': ['11040.80091695'], 'value': ['-9.150000551017001e-06']}), defaultdict(<class 'list'>, {'time': ['11045.8103114'], 'value': ['-1.009999959933339e-05']}), defaultdict(<class 'list'>, {'time': ['11050.82125965'], 'value': ['-5.85000088904053e-06']}), defaultdict(<class 'list'>, {'time': ['11055.83674745'], 'value': ['-3.250000190746505e-06']}), defaultdict(<class 'list'>, {'time': ['11060.84203965'], 'value': ['-7.650000043213367e-06']}), defaultdict(<class 'list'>, {'time': ['11065.85380875'], 'value': ['-7.649999133718666e-06']}), defaultdict(<class 'list'>, {'time': ['11070.86655945'], 'value': ['-9.34999934543157e-06']}), defaultdict(<class 'list'>, {'time': ['11075.87780205'], 'value': ['-6.850000318081584e-06']}), defaultdict(<class 'list'>, {'time': ['11080.880421'], 'value': ['-1.200000042445026e-05']}), defaultdict(<class 'list'>, {'time': ['11085.8955337'], 'value': ['-1.449999945180025e-05']}), defaultdict(<class 'list'>, {'time': ['11090.90917145'], 'value': ['-6.749999556632247e-06']}), defaultdict(<class 'list'>, {'time': ['11095.9112567'], 'value': ['-7.600000571983401e-06']}), defaultdict(<class 'list'>, {'time': ['11100.9243105'], 'value': ['-8.399999387620483e-06']}), defaultdict(<class 'list'>, {'time': ['11105.9302254'], 'value': ['-1.07000005300506e-05']}), defaultdict(<class 'list'>, {'time': ['11110.94158015'], 'value': ['-5.049999344919343e-06']}), defaultdict(<class 'list'>, {'time': ['11115.9555908'], 'value': ['-7.800000275892671e-06']}), defaultdict(<class 'list'>, {'time': ['11120.9671552'], 'value': ['-1.449999945180025e-05']}), defaultdict(<class 'list'>, {'time': ['11125.97978685'], 'value': ['-5.849999979545828e-06']}), defaultdict(<class 'list'>, {'time': ['11130.99404135'], 'value': ['-7.450000339304097e-06']}), defaultdict(<class 'list'>, {'time': ['11136.0037701'], 'value': ['-8.200000593205914e-06']}), defaultdict(<class 'list'>, {'time': ['11141.01109675'], 'value': ['-9.249999493476935e-06']}), defaultdict(<class 'list'>, {'time': ['11146.0192395'], 'value': ['-1.010000050882809e-05']}), defaultdict(<class 'list'>, {'time': ['11151.0264598'], 'value': ['-1.149999934568768e-05']}), defaultdict(<class 'list'>, {'time': ['11156.0361338'], 'value': ['-7.499999810534064e-06']}), defaultdict(<class 'list'>, {'time': ['11161.03701075'], 'value': ['-4.349999471742194e-06']}), defaultdict(<class 'list'>, {'time': ['11166.0386171'], 'value': ['-8.999999408842996e-06']}), defaultdict(<class 'list'>, {'time': ['11171.0512939'], 'value': ['-3.600000127335079e-06']}), defaultdict(<class 'list'>, {'time': ['11176.0550788'], 'value': ['-1.220000012835953e-05']}), defaultdict(<class 'list'>, {'time': ['11181.06212215'], 'value': ['-7.14999987394549e-06']}), defaultdict(<class 'list'>, {'time': ['11186.0714294'], 'value': ['-1.07000005300506e-05']}), defaultdict(<class 'list'>, {'time': ['11191.08353445'], 'value': ['-5.650000275636557e-06']}), defaultdict(<class 'list'>, {'time': ['11196.0906919'], 'value': ['-3.199999810021836e-06']}), defaultdict(<class 'list'>, {'time': ['11201.10137425'], 'value': ['-7.749999895168003e-06']}), defaultdict(<class 'list'>, {'time': ['11206.10879525'], 'value': ['-1.154999972641235e-05']}), defaultdict(<class 'list'>, {'time': ['11211.1196976'], 'value': ['-7.900000127847306e-06']}), defaultdict(<class 'list'>, {'time': ['11216.1331656'], 'value': ['-7.100000402715523e-06']}), defaultdict(<class 'list'>, {'time': ['11221.14070055'], 'value': ['-6.949999260541517e-06']}), defaultdict(<class 'list'>, {'time': ['11226.1496179'], 'value': ['-7.900000127847306e-06']}), defaultdict(<class 'list'>, {'time': ['11231.1554589'], 'value': ['-5.099999725644011e-06']}), defaultdict(<class 'list'>, {'time': ['11236.1593832'], 'value': ['-6.199999916134402e-06']}), defaultdict(<class 'list'>, {'time': ['11241.17527015'], 'value': ['-9.050000699062366e-06']}), defaultdict(<class 'list'>, {'time': ['11246.18785505'], 'value': ['-3.549999746610411e-06']}), defaultdict(<class 'list'>, {'time': ['11251.19239625'], 'value': ['-4.450000233191531e-06']}), defaultdict(<class 'list'>, {'time': ['11256.1973204'], 'value': ['-4.100000296602957e-06']}), defaultdict(<class 'list'>, {'time': ['11261.20316495'], 'value': ['-4.549999175651465e-06']}), defaultdict(<class 'list'>, {'time': ['11266.21588235'], 'value': ['-9.250000402971637e-06']}), defaultdict(<class 'list'>, {'time': ['11271.23032665'], 'value': ['-5.950000740995165e-06']}), defaultdict(<class 'list'>, {'time': ['11276.2309828'], 'value': ['-9.500000487605575e-06']}), defaultdict(<class 'list'>, {'time': ['11281.2310751'], 'value': ['-6.999999641266186e-06']}), defaultdict(<class 'list'>, {'time': ['11286.24124055'], 'value': ['3.50000846083276e-07']}), defaultdict(<class 'list'>, {'time': ['11291.24639355'], 'value': ['-1.104999955714447e-05']}), defaultdict(<class 'list'>, {'time': ['11296.2508092'], 'value': ['-3.500001184875146e-06']}), defaultdict(<class 'list'>, {'time': ['11301.2548452'], 'value': ['-7.700000423938036e-06']}), defaultdict(<class 'list'>, {'time': ['11306.26069185'], 'value': ['-6.450000000768341e-06']}), defaultdict(<class 'list'>, {'time': ['11311.27435805'], 'value': ['-6.350000148813706e-06']}), defaultdict(<class 'list'>, {'time': ['11316.2844245'], 'value': ['-4.699999408330768e-06']}), defaultdict(<class 'list'>, {'time': ['11321.2927194'], 'value': ['-1.150000025518239e-05']}), defaultdict(<class 'list'>, {'time': ['11326.30484545'], 'value': ['-8.449999768345151e-06']}), defaultdict(<class 'list'>, {'time': ['11331.3140838'], 'value': ['-1.190000057249563e-05']}), defaultdict(<class 'list'>, {'time': ['11336.31739885'], 'value': ['-9.54999904934084e-06']}), defaultdict(<class 'list'>, {'time': ['11341.31995245'], 'value': ['-2.84999896393856e-06']}), defaultdict(<class 'list'>, {'time': ['11346.3212467'], 'value': ['-9.399999726156238e-06']}), defaultdict(<class 'list'>, {'time': ['11351.3215786'], 'value': ['-8.799999704933725e-06']}), defaultdict(<class 'list'>, {'time': ['11356.32575395'], 'value': ['-5.249999958323315e-06']}), defaultdict(<class 'list'>, {'time': ['11361.3347881'], 'value': ['-7.700000423938036e-06']}), defaultdict(<class 'list'>, {'time': ['11366.3421644'], 'value': ['-1.000000065687345e-05']}), defaultdict(<class 'list'>, {'time': ['11371.3463333'], 'value': ['-6.70000008540228e-06']}), defaultdict(<class 'list'>, {'time': ['11376.361175'], 'value': ['-8.400000297115184e-06']}), defaultdict(<class 'list'>, {'time': ['11381.3680455'], 'value': ['-1.500000053056283e-05']}), defaultdict(<class 'list'>, {'time': ['11386.38077605'], 'value': ['1.345000055152923e-05']}), defaultdict(<class 'list'>, {'time': ['11391.3930639'], 'value': ['-2.050000057352008e-05']}), defaultdict(<class 'list'>, {'time': ['11396.40602165'], 'value': ['-8.949999937613029e-06']}), defaultdict(<class 'list'>, {'time': ['11401.4112286'], 'value': ['1.80000006366754e-05']}), defaultdict(<class 'list'>, {'time': ['11406.4264172'], 'value': ['1.52000002344721e-05']}), defaultdict(<class 'list'>, {'time': ['11411.4413741'], 'value': ['-2.699999913602369e-05']}), defaultdict(<class 'list'>, {'time': ['11416.4447426'], 'value': ['1.499999598308932e-06']}), defaultdict(<class 'list'>, {'time': ['11421.4492794'], 'value': ['1.140000040322775e-05']}), defaultdict(<class 'list'>, {'time': ['11426.45408755'], 'value': ['-5.149999196873978e-06']}), defaultdict(<class 'list'>, {'time': ['11431.4682105'], 'value': ['8.800000614428427e-06']}), defaultdict(<class 'list'>, {'time': ['11436.47361495'], 'value': ['-1.315000008617062e-05']}), defaultdict(<class 'list'>, {'time': ['11441.4855446'], 'value': ['-7.900000127847306e-06']}), defaultdict(<class 'list'>, {'time': ['11446.49172405'], 'value': ['1.39499998113024e-05']}), defaultdict(<class 'list'>, {'time': ['11451.49551555'], 'value': ['1.154999972641235e-05']}), defaultdict(<class 'list'>, {'time': ['11456.5103909'], 'value': ['-1.590000101714395e-05']}), defaultdict(<class 'list'>, {'time': ['11461.52337715'], 'value': ['8.75000114319846e-06']}), defaultdict(<class 'list'>, {'time': ['11466.5305053'], 'value': ['1.470000006520422e-05']}), defaultdict(<class 'list'>, {'time': ['11471.5414802'], 'value': ['9.800000043469481e-06']}), defaultdict(<class 'list'>, {'time': ['11476.55503455'], 'value': ['1.725000038277358e-05']}), defaultdict(<class 'list'>, {'time': ['11481.56018355'], 'value': ['-7.650000043213367e-06']}), defaultdict(<class 'list'>, {'time': ['11486.56361325'], 'value': ['-2.164999932574574e-05']}), defaultdict(<class 'list'>, {'time': ['11491.56544905'], 'value': ['-8.349999916390516e-06']}), defaultdict(<class 'list'>, {'time': ['11496.56657925'], 'value': ['-2.085000051010866e-05']}), defaultdict(<class 'list'>, {'time': ['11501.5768728'], 'value': ['-8.700000762473792e-06']}), defaultdict(<class 'list'>, {'time': ['11506.586638'], 'value': ['-1.150000025518239e-05']}), defaultdict(<class 'list'>, {'time': ['11511.59703855'], 'value': ['-5.550000423681922e-06']}), defaultdict(<class 'list'>, {'time': ['11516.6047014'], 'value': ['-1.390000034007244e-05']}), defaultdict(<class 'list'>, {'time': ['11521.60581025'], 'value': ['-9.649998901295476e-06']}), defaultdict(<class 'list'>, {'time': ['11526.615439'], 'value': ['-1.229999998031417e-05']}), defaultdict(<class 'list'>, {'time': ['11531.6259044'], 'value': ['-8.600000910519157e-06']}), defaultdict(<class 'list'>, {'time': ['11536.6390973'], 'value': ['-1.400000110152178e-05']}), defaultdict(<class 'list'>, {'time': ['11541.65373485'], 'value': ['-1.384999995934777e-05']}), defaultdict(<class 'list'>, {'time': ['11546.6674269'], 'value': ['-1.609999981155852e-05']}), defaultdict(<class 'list'>, {'time': ['11551.67642785'], 'value': ['-1.195000004372559e-05']}), defaultdict(<class 'list'>, {'time': ['11556.6894388'], 'value': ['-1.420000080543105e-05']}), defaultdict(<class 'list'>, {'time': ['11561.69065635'], 'value': ['-8.250000064435881e-06']}), defaultdict(<class 'list'>, {'time': ['11566.693444'], 'value': ['-9.500000487605575e-06']}), defaultdict(<class 'list'>, {'time': ['11571.69651445'], 'value': ['-1.164999957836699e-05']}), defaultdict(<class 'list'>, {'time': ['11576.7099268'], 'value': ['-1.500000053056283e-05']}), defaultdict(<class 'list'>, {'time': ['11581.7142007'], 'value': ['-1.089999932446517e-05']}), defaultdict(<class 'list'>, {'time': ['11586.72911815'], 'value': ['-1.5349998648162e-05']}), defaultdict(<class 'list'>, {'time': ['11591.7313989'], 'value': ['-7.699999514443334e-06']}), defaultdict(<class 'list'>, {'time': ['11596.7459457'], 'value': ['-1.130000055127311e-05']}), defaultdict(<class 'list'>, {'time': ['11601.76141085'], 'value': ['-1.034999968396733e-05']}), defaultdict(<class 'list'>, {'time': ['11606.7660095'], 'value': ['-7.999988156370819e-07']}), defaultdict(<class 'list'>, {'time': ['11611.7700701'], 'value': ['-1.290000000153668e-05']}), defaultdict(<class 'list'>, {'time': ['11616.7767821'], 'value': ['-8.899999556888361e-06']}), defaultdict(<class 'list'>, {'time': ['11621.77718485'], 'value': ['-9.149999641522299e-06']}), defaultdict(<class 'list'>, {'time': ['11626.7840973'], 'value': ['-1.100000008591451e-05']}), defaultdict(<class 'list'>, {'time': ['11631.7934147'], 'value': ['-1.410000004398171e-05']}), defaultdict(<class 'list'>, {'time': ['11636.79480055'], 'value': ['-1.385000086884247e-05']}), defaultdict(<class 'list'>, {'time': ['11641.8103451'], 'value': ['-1.6900000446185e-05']}), defaultdict(<class 'list'>, {'time': ['11646.81614735'], 'value': ['-1.214999974763487e-05']}), defaultdict(<class 'list'>, {'time': ['11651.8299884'], 'value': ['-1.729999985400354e-05']}), defaultdict(<class 'list'>, {'time': ['11656.8437997'], 'value': ['-1.120000069931848e-05']}), defaultdict(<class 'list'>, {'time': ['11661.8475547'], 'value': ['-1.270000029762741e-05']}), defaultdict(<class 'list'>, {'time': ['11666.8480778'], 'value': ['-9.999999747378752e-06']}), defaultdict(<class 'list'>, {'time': ['11671.85036285'], 'value': ['-9.149998732027598e-06']}), defaultdict(<class 'list'>, {'time': ['11676.8544538'], 'value': ['-1.83000001925393e-05']}), defaultdict(<class 'list'>, {'time': ['11681.8632567'], 'value': ['-1.649999921937706e-05']}), defaultdict(<class 'list'>, {'time': ['11686.87861215'], 'value': ['-1.234999945154414e-05']}), defaultdict(<class 'list'>, {'time': ['11691.8883142'], 'value': ['-4.899999112240039e-06']}), defaultdict(<class 'list'>, {'time': ['11696.8929109'], 'value': ['-9.200000022246968e-06']}), defaultdict(<class 'list'>, {'time': ['11701.9022953'], 'value': ['-7.900000127847306e-06']}), defaultdict(<class 'list'>, {'time': ['11706.90486505'], 'value': ['-1.375000010739313e-05']}), defaultdict(<class 'list'>, {'time': ['11711.9135345'], 'value': ['-7.799999366397969e-06']}), defaultdict(<class 'list'>, {'time': ['11716.9229231'], 'value': ['-1.149999934568768e-05']}), defaultdict(<class 'list'>, {'time': ['11721.9318267'], 'value': ['-5.400000191002619e-06']}), defaultdict(<class 'list'>, {'time': ['11726.9459847'], 'value': ['-1.270000029762741e-05']}), defaultdict(<class 'list'>, {'time': ['11731.9552653'], 'value': ['-5.400000191002619e-06']}), defaultdict(<class 'list'>, {'time': ['11736.9648661'], 'value': ['-9.999999747378752e-06']}), defaultdict(<class 'list'>, {'time': ['11741.97153735'], 'value': ['-1.034999968396733e-05']}), defaultdict(<class 'list'>, {'time': ['11746.9865385'], 'value': ['-9.800000043469481e-06']}), defaultdict(<class 'list'>, {'time': ['11751.99505255'], 'value': ['-6.149999535409734e-06']}), defaultdict(<class 'list'>, {'time': ['11757.00206385'], 'value': ['-6.649999704677612e-06']}), defaultdict(<class 'list'>, {'time': ['11762.01039925'], 'value': ['-1.22499986900948e-05']}), defaultdict(<class 'list'>, {'time': ['11767.02372095'], 'value': ['-3.849999302474316e-06']}), defaultdict(<class 'list'>, {'time': ['11772.0259562'], 'value': ['-4.100000296602957e-06']}), defaultdict(<class 'list'>, {'time': ['11777.02669595'], 'value': ['-7.550000191258732e-06']}), defaultdict(<class 'list'>, {'time': ['11782.0409594'], 'value': ['-4.800001079274807e-06']}), defaultdict(<class 'list'>, {'time': ['11787.04993065'], 'value': ['-9.350000254926272e-06']}), defaultdict(<class 'list'>, {'time': ['11792.05878585'], 'value': ['-8.05000036052661e-06']}), defaultdict(<class 'list'>, {'time': ['11797.06593795'], 'value': ['-3.950000063923653e-06']}), defaultdict(<class 'list'>, {'time': ['11802.0787114'], 'value': ['-6.999989636824466e-07']}), defaultdict(<class 'list'>, {'time': ['11807.08445145'], 'value': ['-7.949999599077273e-06']}), defaultdict(<class 'list'>, {'time': ['11812.0845569'], 'value': ['-1.090000114345457e-05']}), defaultdict(<class 'list'>, {'time': ['11817.094188'], 'value': ['-6.099999154685065e-06']}), defaultdict(<class 'list'>, {'time': ['11822.10411355'], 'value': ['-6.0500005929498e-06']}), defaultdict(<class 'list'>, {'time': ['11827.1124188'], 'value': ['-7.000000550760888e-06']}), defaultdict(<class 'list'>, {'time': ['11832.12477815'], 'value': ['-6.150000444904435e-06']}), defaultdict(<class 'list'>, {'time': ['11837.12642015'], 'value': ['-8.650000381749123e-06']}), defaultdict(<class 'list'>, {'time': ['11842.12739995'], 'value': ['-8.750000233703759e-06']}), defaultdict(<class 'list'>, {'time': ['11847.1286351'], 'value': ['-4.899999112240039e-06']}), defaultdict(<class 'list'>, {'time': ['11852.1435397'], 'value': ['-1.189999966300093e-05']}), defaultdict(<class 'list'>, {'time': ['11857.15863235'], 'value': ['-8.849999176163692e-06']}), defaultdict(<class 'list'>, {'time': ['11862.1637239'], 'value': ['-7.000000550760888e-06']}), defaultdict(<class 'list'>, {'time': ['11867.17901515'], 'value': ['-5.749999218096491e-06']}), defaultdict(<class 'list'>, {'time': ['11872.18753675'], 'value': ['-6.449999091273639e-06']}), defaultdict(<class 'list'>, {'time': ['11877.190018'], 'value': ['-5.399999281507917e-06']}), defaultdict(<class 'list'>, {'time': ['11882.19598795'], 'value': ['-7.949999599077273e-06']}), defaultdict(<class 'list'>, {'time': ['11887.205991'], 'value': ['-1.079999947251054e-05']}), defaultdict(<class 'list'>, {'time': ['11892.2065886'], 'value': ['-1.640000027691713e-05']}), defaultdict(<class 'list'>, {'time': ['11897.2090188'], 'value': ['-1.510000038251746e-05']}), defaultdict(<class 'list'>, {'time': ['11902.2157015'], 'value': ['-5.000001692678779e-07']}), defaultdict(<class 'list'>, {'time': ['11907.2205204'], 'value': ['-5.699999746866524e-06']}), defaultdict(<class 'list'>, {'time': ['11912.2343101'], 'value': ['-3.099999958067201e-06']}), defaultdict(<class 'list'>, {'time': ['11917.2487332'], 'value': ['-7.100000402715523e-06']}), defaultdict(<class 'list'>, {'time': ['11922.2616769'], 'value': ['-9.300000783696305e-06']}), defaultdict(<class 'list'>, {'time': ['11927.2691474'], 'value': ['-6.000000212225132e-06']}), defaultdict(<class 'list'>, {'time': ['11932.27063715'], 'value': ['-9.949999366654083e-06']}), defaultdict(<class 'list'>, {'time': ['11937.27644745'], 'value': ['-2.450000465614721e-06']}), defaultdict(<class 'list'>, {'time': ['11942.27782575'], 'value': ['-1.264999991690274e-05']}), defaultdict(<class 'list'>, {'time': ['11947.28444045'], 'value': ['-9.750000572239514e-06']}), defaultdict(<class 'list'>, {'time': ['11952.28673715'], 'value': ['-3.349999133206438e-06']}), defaultdict(<class 'list'>, {'time': ['11957.2892798'], 'value': ['-1.510000038251746e-05']}), defaultdict(<class 'list'>, {'time': ['11962.2993243'], 'value': ['-8.999995770864189e-07']}), defaultdict(<class 'list'>, {'time': ['11967.3102698'], 'value': ['2.999995558639057e-07']}), defaultdict(<class 'list'>, {'time': ['11972.3218101'], 'value': ['-9.200000022246968e-06']}), defaultdict(<class 'list'>, {'time': ['11977.3308774'], 'value': ['-1.119999978982378e-05']}), defaultdict(<class 'list'>, {'time': ['11982.3365272'], 'value': ['3.899999683198985e-06']}), defaultdict(<class 'list'>, {'time': ['11987.34790175'], 'value': ['-4.450000233191531e-06']}), defaultdict(<class 'list'>, {'time': ['11992.36098945'], 'value': ['-7.749999895168003e-06']}), defaultdict(<class 'list'>, {'time': ['11997.36678145'], 'value': ['-8.049999451031908e-06']}), defaultdict(<class 'list'>, {'time': ['12002.3783075'], 'value': ['-7.99999907030724e-06']}), defaultdict(<class 'list'>, {'time': ['12007.3891601'], 'value': ['-1.419999989593634e-05']}), defaultdict(<class 'list'>, {'time': ['12012.39723455'], 'value': ['-9.85000042419415e-06']}), defaultdict(<class 'list'>, {'time': ['12017.3992798'], 'value': ['-1.459999930375488e-05']}), defaultdict(<class 'list'>, {'time': ['12022.4119399'], 'value': ['-1.530000099592144e-05']}), defaultdict(<class 'list'>, {'time': ['12027.41749855'], 'value': ['-3.549999746610411e-06']}), defaultdict(<class 'list'>, {'time': ['12032.42828995'], 'value': ['-1.664999945205636e-05']}), defaultdict(<class 'list'>, {'time': ['12037.42888215'], 'value': ['-1.044999953592196e-05']}), defaultdict(<class 'list'>, {'time': ['12042.44246225'], 'value': ['-8.349999006895814e-06']}), defaultdict(<class 'list'>, {'time': ['12047.44898745'], 'value': ['-8.150001121975947e-06']}), defaultdict(<class 'list'>, {'time': ['12052.45772475'], 'value': ['-1.164999957836699e-05']}), defaultdict(<class 'list'>, {'time': ['12057.4579702'], 'value': ['-2.599999788799323e-06']}), defaultdict(<class 'list'>, {'time': ['12062.45812065'], 'value': ['-7.14999987394549e-06']}), defaultdict(<class 'list'>, {'time': ['12067.4712881'], 'value': ['-8.100000741251279e-06']}), defaultdict(<class 'list'>, {'time': ['12072.4834019'], 'value': ['-3.799999831244349e-06']}), defaultdict(<class 'list'>, {'time': ['12077.4918213'], 'value': ['-7.200000254670158e-06']}), defaultdict(<class 'list'>, {'time': ['12082.50255075'], 'value': ['-4.850000550504774e-06']}), defaultdict(<class 'list'>, {'time': ['12087.50840805'], 'value': ['-4.949999492964707e-06']}), defaultdict(<class 'list'>, {'time': ['12092.51520215'], 'value': ['-8.850000085658394e-06']}), defaultdict(<class 'list'>, {'time': ['12097.5173221'], 'value': ['-6.299999768089037e-06']}), defaultdict(<class 'list'>, {'time': ['12102.5251346'], 'value': ['-1.510000038251746e-05']}), defaultdict(<class 'list'>, {'time': ['12107.5354421'], 'value': ['-1.569999949424528e-05']}), defaultdict(<class 'list'>, {'time': ['12112.5507261'], 'value': ['-4.699999408330768e-06']}), defaultdict(<class 'list'>, {'time': ['12117.56266865'], 'value': ['1.049999809765723e-06']}), defaultdict(<class 'list'>, {'time': ['12122.5657345'], 'value': ['-7.800000275892671e-06']}), defaultdict(<class 'list'>, {'time': ['12127.56879785'], 'value': ['-1.50500000017928e-05']}), defaultdict(<class 'list'>, {'time': ['12132.58007595'], 'value': ['-7.450000339304097e-06']}), defaultdict(<class 'list'>, {'time': ['12137.59429235'], 'value': ['-5.750000127591193e-06']}), defaultdict(<class 'list'>, {'time': ['12142.60640565'], 'value': ['-1.05500002973713e-05']}), defaultdict(<class 'list'>, {'time': ['12147.60677415'], 'value': ['-5.749999218096491e-06']}), defaultdict(<class 'list'>, {'time': ['12152.6091292'], 'value': ['-1.080000038200524e-05']}), defaultdict(<class 'list'>, {'time': ['12157.6245466'], 'value': ['-9.899999895424116e-06']}), defaultdict(<class 'list'>, {'time': ['12162.6377395'], 'value': ['-1.169999995909166e-05']}), defaultdict(<class 'list'>, {'time': ['12167.63806135'], 'value': ['-1.315000008617062e-05']}), defaultdict(<class 'list'>, {'time': ['12172.6533984'], 'value': ['-6.799999937356915e-06']}), defaultdict(<class 'list'>, {'time': ['12177.6665163'], 'value': ['-6.000000212225132e-06']}), defaultdict(<class 'list'>, {'time': ['12182.6808984'], 'value': ['-5.799999598821159e-06']}), defaultdict(<class 'list'>, {'time': ['12187.6887784'], 'value': ['-8.800000614428427e-06']}), defaultdict(<class 'list'>, {'time': ['12192.6997229'], 'value': ['-6.100000064179767e-06']}), defaultdict(<class 'list'>, {'time': ['12197.70388155'], 'value': ['-1.354999949398916e-05']}), defaultdict(<class 'list'>, {'time': ['12202.7054349'], 'value': ['-2.900000254157931e-06']}), defaultdict(<class 'list'>, {'time': ['12207.7109372'], 'value': ['-7.700000423938036e-06']}), defaultdict(<class 'list'>, {'time': ['12212.72432275'], 'value': ['-2.650000169523992e-06']}), defaultdict(<class 'list'>, {'time': ['12217.7328427'], 'value': ['-1.940000038302969e-05']}), defaultdict(<class 'list'>, {'time': ['12222.7438644'], 'value': ['-9.499999578110874e-06']}), defaultdict(<class 'list'>, {'time': ['12227.75403065'], 'value': ['-8.649999472254422e-06']}), defaultdict(<class 'list'>, {'time': ['12232.76004725'], 'value': ['-9.450000106880907e-06']}), defaultdict(<class 'list'>, {'time': ['12237.76854555'], 'value': ['-9.049999789567664e-06']}), defaultdict(<class 'list'>, {'time': ['12242.7800676'], 'value': ['-1.599999995960388e-05']}), defaultdict(<class 'list'>, {'time': ['12247.7904308'], 'value': ['-1.390000034007244e-05']}), defaultdict(<class 'list'>, {'time': ['12252.7970129'], 'value': ['-1.339999926130986e-05']}), defaultdict(<class 'list'>, {'time': ['12257.80874625'], 'value': ['-1.204999989568023e-05']}), defaultdict(<class 'list'>, {'time': ['12262.82227895'], 'value': ['-7.550000191258732e-06']}), defaultdict(<class 'list'>, {'time': ['12267.83243365'], 'value': ['-9.549999958835542e-06']}), defaultdict(<class 'list'>, {'time': ['12272.84011105'], 'value': ['-4.350000381236896e-06']}), defaultdict(<class 'list'>, {'time': ['12277.840294'], 'value': ['-5.99999930273043e-06']}), defaultdict(<class 'list'>, {'time': ['12282.8442297'], 'value': ['-7.699999514443334e-06']}), defaultdict(<class 'list'>, {'time': ['12287.8463597'], 'value': ['-7.99999907030724e-06']}), defaultdict(<class 'list'>, {'time': ['12292.84880785'], 'value': ['-8.850000085658394e-06']}), defaultdict(<class 'list'>, {'time': ['12297.86374605'], 'value': ['-9.249999493476935e-06']}), defaultdict(<class 'list'>, {'time': ['12302.8750417'], 'value': ['-1.229999907081947e-05']}), defaultdict(<class 'list'>, {'time': ['12307.88535805'], 'value': ['-1.204999989568023e-05']}), defaultdict(<class 'list'>, {'time': ['12312.88972785'], 'value': ['-9.650000720284879e-06']}), defaultdict(<class 'list'>, {'time': ['12317.8939644'], 'value': ['-8.100000741251279e-06']}), defaultdict(<class 'list'>, {'time': ['12322.90126405'], 'value': ['-1.014999998005806e-05']}), defaultdict(<class 'list'>, {'time': ['12327.9137618'], 'value': ['-1.160000101663172e-05']}), defaultdict(<class 'list'>, {'time': ['12332.92573185'], 'value': ['-1.295000038226135e-05']}), defaultdict(<class 'list'>, {'time': ['12337.9332341'], 'value': ['-3.400000423425809e-06']}), defaultdict(<class 'list'>, {'time': ['12342.9372074'], 'value': ['-9.899999895424116e-06']}), defaultdict(<class 'list'>, {'time': ['12347.9497907'], 'value': ['-5.300000339047983e-06']}), defaultdict(<class 'list'>, {'time': ['12352.9504273'], 'value': ['-3.000000106112566e-06']}), defaultdict(<class 'list'>, {'time': ['12357.9616987'], 'value': ['-4.200000148557592e-06']}), defaultdict(<class 'list'>, {'time': ['12362.9661269'], 'value': ['-8.299999535665847e-06']}), defaultdict(<class 'list'>, {'time': ['12367.9705945'], 'value': ['-2.900000254157931e-06']}), defaultdict(<class 'list'>, {'time': ['12372.9845463'], 'value': ['-6.400000529538374e-06']}), defaultdict(<class 'list'>, {'time': ['12377.9928964'], 'value': ['-4.599999556376133e-06']}), defaultdict(<class 'list'>, {'time': ['12383.00844435'], 'value': ['-1.185000019177096e-05']}), defaultdict(<class 'list'>, {'time': ['12388.0103235'], 'value': ['-1.260000044567278e-05']}), defaultdict(<class 'list'>, {'time': ['12393.01272535'], 'value': ['-1.745000008668285e-05']}), defaultdict(<class 'list'>, {'time': ['12398.0141257'], 'value': ['-6.599999323952943e-06']}), defaultdict(<class 'list'>, {'time': ['12403.0247763'], 'value': ['-8.399999387620483e-06']}), defaultdict(<class 'list'>, {'time': ['12408.0320249'], 'value': ['-1.009999959933339e-05']}), defaultdict(<class 'list'>, {'time': ['12413.03711855'], 'value': ['-7.049999112496153e-06']}), defaultdict(<class 'list'>, {'time': ['12418.0450341'], 'value': ['-5.099999725644011e-06']}), defaultdict(<class 'list'>, {'time': ['12423.0521378'], 'value': ['-8.600000910519157e-06']}), defaultdict(<class 'list'>, {'time': ['12428.0676906'], 'value': ['-8.50000014906982e-06']}), defaultdict(<class 'list'>, {'time': ['12433.08206695'], 'value': ['-9.049998880072962e-06']}), defaultdict(<class 'list'>, {'time': ['12438.0897281'], 'value': ['-1.109999902837444e-05']}), defaultdict(<class 'list'>, {'time': ['12443.1050103'], 'value': ['-6.100000064179767e-06']}), defaultdict(<class 'list'>, {'time': ['12448.1199816'], 'value': ['-8.600000001024455e-06']}), defaultdict(<class 'list'>, {'time': ['12453.1273135'], 'value': ['-6.100000064179767e-06']}), defaultdict(<class 'list'>, {'time': ['12458.1419498'], 'value': ['-4.000000444648322e-06']}), defaultdict(<class 'list'>, {'time': ['12463.1505729'], 'value': ['-9.200000022246968e-06']}), defaultdict(<class 'list'>, {'time': ['12468.1544835'], 'value': ['-4.5000006139162e-06']}), defaultdict(<class 'list'>, {'time': ['12473.16164285'], 'value': ['-8.449999768345151e-06']}), defaultdict(<class 'list'>, {'time': ['12478.1642206'], 'value': ['-1.029999930324266e-05']}), defaultdict(<class 'list'>, {'time': ['12483.1663817'], 'value': ['-8.50000014906982e-06']}), defaultdict(<class 'list'>, {'time': ['12488.1769393'], 'value': ['-1.609999981155852e-05']}), defaultdict(<class 'list'>, {'time': ['12493.19251585'], 'value': ['-8.949999937613029e-06']}), defaultdict(<class 'list'>, {'time': ['12498.2059373'], 'value': ['-5.199999577598646e-06']}), defaultdict(<class 'list'>, {'time': ['12503.20699565'], 'value': ['-7.250000635394827e-06']}), defaultdict(<class 'list'>, {'time': ['12508.2082699'], 'value': ['-5.099999725644011e-06']}), defaultdict(<class 'list'>, {'time': ['12513.22329835'], 'value': ['-5.650000275636557e-06']}), defaultdict(<class 'list'>, {'time': ['12518.2277353'], 'value': ['-1.049999991664663e-05']}), defaultdict(<class 'list'>, {'time': ['12523.2398197'], 'value': ['-3.199999810021836e-06']}), defaultdict(<class 'list'>, {'time': ['12528.24524095'], 'value': ['-7.650000043213367e-06']}), defaultdict(<class 'list'>, {'time': ['12533.25310705'], 'value': ['-1.474999953643419e-05']}), defaultdict(<class 'list'>, {'time': ['12538.26787785'], 'value': ['-6.849999408586882e-06']}), defaultdict(<class 'list'>, {'time': ['12543.27964585'], 'value': ['-3.749999450519681e-06']}), defaultdict(<class 'list'>, {'time': ['12548.2798119'], 'value': ['-5.599999894911889e-06']}), defaultdict(<class 'list'>, {'time': ['12553.28673185'], 'value': ['-1.275000067835208e-05']}), defaultdict(<class 'list'>, {'time': ['12558.30189995'], 'value': ['-1.405000057275174e-05']}), defaultdict(<class 'list'>, {'time': ['12563.3106517'], 'value': ['-5.900000360270496e-06']}), defaultdict(<class 'list'>, {'time': ['12568.3129779'], 'value': ['-3.699999069795012e-06']}), defaultdict(<class 'list'>, {'time': ['12573.3182446'], 'value': ['-4.399999852466863e-06']}), defaultdict(<class 'list'>, {'time': ['12578.33278935'], 'value': ['-1.525000061519677e-05']}), defaultdict(<class 'list'>, {'time': ['12583.3444676'], 'value': ['-1.020000036078272e-05']}), defaultdict(<class 'list'>, {'time': ['12588.3535799'], 'value': ['-5.300001248542685e-06']}), defaultdict(<class 'list'>, {'time': ['12593.360323'], 'value': ['-1.759999940986745e-05']}), defaultdict(<class 'list'>, {'time': ['12598.37225125'], 'value': ['-9.749999662744813e-06']}), defaultdict(<class 'list'>, {'time': ['12603.3762077'], 'value': ['-1.019999945128802e-05']}), defaultdict(<class 'list'>, {'time': ['12608.38762905'], 'value': ['-1.085000076272991e-05']}), defaultdict(<class 'list'>, {'time': ['12613.39472475'], 'value': ['-8.05000036052661e-06']}), defaultdict(<class 'list'>, {'time': ['12618.40885565'], 'value': ['-2.050000148301478e-06']}), defaultdict(<class 'list'>, {'time': ['12623.41242765'], 'value': ['-7.550000191258732e-06']}), defaultdict(<class 'list'>, {'time': ['12628.4127856'], 'value': ['-1.780000002327142e-05']}), defaultdict(<class 'list'>, {'time': ['12633.42278955'], 'value': ['-4.950000402459409e-06']})]})\n"
     ]
    }
   ],
   "source": [
    "footer = data[0]['footer']\n",
    "#print(footer)\n",
    "\n",
    "# Function to extract keys and values from the nested structure\n",
    "def extract_keys_values(data, keys=None):\n",
    "    if keys is None:\n",
    "        keys = []\n",
    "    values = []\n",
    "    for key, value in data.items():\n",
    "        if isinstance(value, list) and len(value) == 1:\n",
    "            keys.append(key)\n",
    "            values.extend(value)\n",
    "        elif isinstance(value, dict) or isinstance(value, defaultdict):\n",
    "            nested_keys, nested_values = extract_keys_values(value, keys + [key])\n",
    "            keys.extend(nested_keys)\n",
    "            values.extend(nested_values)\n",
    "    return keys, values\n",
    "\n",
    "# Get keys and values from the nested structure\n",
    "all_keys_footer, all_values_footer = extract_keys_values(footer)\n",
    "\n",
    "# Combine keys and values into a DataFrame\n",
    "#footerinfo = pd.DataFrame({'Keys': all_keys_footer, 'Values': all_values_footer})\n",
    "print(all_keys_footer[1])\n",
    "print(all_values_footer[0])\n",
    "print(all_values_footer[3])"
   ]
  },
  {
   "cell_type": "code",
   "execution_count": 7,
   "metadata": {},
   "outputs": [
    {
     "name": "stdout",
     "output_type": "stream",
     "text": [
      "              Keys                                             Values\n",
      "0             name                                 Polar H10 BFA24F21\n",
      "1             type                                                ECG\n",
      "2    channel_count                                                  1\n",
      "3   channel_format                                            float32\n",
      "4        source_id                                          myuid2424\n",
      "5    nominal_srate                                  130.0000000000000\n",
      "6          version                                  1.100000000000000\n",
      "7       created_at                                  9699.451994999999\n",
      "8              uid               1a600a85-b6e7-4994-99ef-954bc8255a26\n",
      "9       session_id                                            default\n",
      "10        hostname                                    DESKTOP-UGL4IEM\n",
      "11       v4address                                               None\n",
      "12     v4data_port                                              16572\n",
      "13  v4service_port                                              16572\n",
      "14       v6address                                               None\n",
      "15     v6data_port                                              16572\n",
      "16  v6service_port                                              16572\n",
      "17            desc  {'manufacturer': ['Polar'], 'channels': [{'cha...\n"
     ]
    }
   ],
   "source": [
    "# Function to extract keys and values from the nested structure\n",
    "def extract_keys_values(data, keys=None):\n",
    "    if keys is None:\n",
    "        keys = []\n",
    "    values = []\n",
    "    for key, value in data.items():\n",
    "        if isinstance(value, list) and len(value) == 1:\n",
    "            keys.append(key)\n",
    "            values.extend(value)\n",
    "        elif isinstance(value, dict) or isinstance(value, defaultdict):\n",
    "            nested_keys, nested_values = extract_keys_values(value, keys + [key])\n",
    "            keys.extend(nested_keys)\n",
    "            values.extend(nested_values)\n",
    "    return keys, values\n",
    "\n",
    "# Get keys and values from the nested structure\n",
    "all_keys, all_values = extract_keys_values(info)\n",
    "\n",
    "# Combine keys and values into a DataFrame\n",
    "deviceinfo = pd.DataFrame({'Keys': all_keys, 'Values': all_values})\n",
    "\n",
    "# Display the DataFrame\n",
    "print(deviceinfo)"
   ]
  },
  {
   "cell_type": "code",
   "execution_count": 11,
   "metadata": {},
   "outputs": [
    {
     "name": "stdout",
     "output_type": "stream",
     "text": [
      "Key: info, Value: defaultdict(<class 'list'>, {'version': ['1.0'], 'datetime': ['2023-08-09T15:34:55+0100']})\n"
     ]
    }
   ],
   "source": [
    "for key, value in header.items():\n",
    "    print(f\"Key: {key}, Value: {value}\")"
   ]
  },
  {
   "cell_type": "code",
   "execution_count": 8,
   "metadata": {},
   "outputs": [
    {
     "name": "stdout",
     "output_type": "stream",
     "text": [
      "Datetime information: 2023-08-09T15:34:55+0100\n"
     ]
    }
   ],
   "source": [
    "datetime_value = header['info']['datetime'][0]\n",
    "print(f\"Datetime information: {datetime_value}\")"
   ]
  },
  {
   "cell_type": "code",
   "execution_count": 9,
   "metadata": {},
   "outputs": [],
   "source": [
    "ecg_data_df_1 = pd.DataFrame(data)\n",
    "ecg_data_df = ecg_data_df_1[[\"time_stamps\", \"time_series\"]]\n",
    "x=ecg_data_df.reset_index(drop=True)\n"
   ]
  },
  {
   "cell_type": "code",
   "execution_count": 10,
   "metadata": {},
   "outputs": [],
   "source": [
    "for stream in data:\n",
    "    y_list = stream['time_series'].tolist()\n",
    "    t_list = stream[\"time_stamps\"].tolist()\n",
    "\n",
    "ecg_data_df = pd.DataFrame(list(zip(t,y)), columns= ('time','ECG'))\n",
    "\n"
   ]
  },
  {
   "cell_type": "code",
   "execution_count": 42,
   "metadata": {},
   "outputs": [],
   "source": [
    "ecg_data_df.to_csv(\"C:/Users/Sowmya/QOE_CWI/Recorded RCQoEA Data/Sowmya_csv.csv\")"
   ]
  },
  {
   "cell_type": "code",
   "execution_count": 17,
   "metadata": {},
   "outputs": [
    {
     "name": "stdout",
     "output_type": "stream",
     "text": [
      "Time for 12632.8221645071 seconds: 0 hours 36 minutes 31.584 seconds\n"
     ]
    }
   ],
   "source": [
    "# Given values\n",
    "time_given_seconds = 9731.5453469964\n",
    "time_given_formatted = \"15:34:55\"\n",
    "\n",
    "# Convert time to total seconds\n",
    "hours, minutes, seconds = map(float, time_given_formatted.split(':'))\n",
    "time_given_total_seconds = hours * 3600 + minutes * 60 + seconds\n",
    "\n",
    "# Calculate the ratio of time to seconds\n",
    "ratio = time_given_seconds / time_given_total_seconds\n",
    "\n",
    "# Time in seconds for 12632.8221645071 seconds\n",
    "time_new_seconds = 12632.8221645071\n",
    "\n",
    "# Calculate the time for the new seconds\n",
    "time_new = ratio * time_new_seconds\n",
    "\n",
    "# Convert seconds back to hours, minutes, and seconds\n",
    "hours_new = int(time_new / 3600)\n",
    "minutes_new = int((time_new % 3600) / 60)\n",
    "seconds_new = time_new % 60\n",
    "\n",
    "print(f\"Time for {time_new_seconds} seconds: {hours_new} hours {minutes_new} minutes {seconds_new:.3f} seconds\")\n"
   ]
  },
  {
   "cell_type": "code",
   "execution_count": 18,
   "metadata": {},
   "outputs": [
    {
     "name": "stdout",
     "output_type": "stream",
     "text": [
      "Start time: 15:34:55\n",
      "Resultant time: 16:11:26.584\n",
      "Time for 12632.8221645071 seconds: 0 hours 36 minutes 31.584 seconds\n"
     ]
    }
   ],
   "source": [
    "# Given values\n",
    "time_given_seconds = 9731.5453469964\n",
    "time_given_formatted = \"15:34:55\"\n",
    "print(f\"Start time: {time_given_formatted}\")\n",
    "\n",
    "# Convert time to total seconds\n",
    "hours, minutes, seconds = map(float, time_given_formatted.split(':'))\n",
    "time_given_total_seconds = hours * 3600 + minutes * 60 + seconds\n",
    "\n",
    "# Calculate the ratio of time to seconds\n",
    "ratio = time_given_seconds / time_given_total_seconds\n",
    "\n",
    "# Time in seconds for 12632.8221645071 seconds\n",
    "time_new_seconds = 12632.8221645071\n",
    "\n",
    "# Calculate the time for the new seconds\n",
    "time_new = ratio * time_new_seconds\n",
    "\n",
    "# Convert seconds back to hours, minutes, and seconds\n",
    "hours_new = int(time_new / 3600)\n",
    "minutes_new = int((time_new % 3600) / 60)\n",
    "seconds_new = time_new % 60\n",
    "\n",
    "# Format the time as \"HH:MM:SS.sss\"\n",
    "time_new_formatted = f\"{hours_new:02}:{minutes_new:02}:{seconds_new:06.3f}\"\n",
    "\n",
    "# Function to add two times in HH:MM:SS.sss format\n",
    "def add_times(time1, time2):\n",
    "    hours, minutes, seconds = map(float, time1.split(':'))\n",
    "    total_seconds = hours * 3600 + minutes * 60 + seconds\n",
    "\n",
    "    hours, minutes, seconds = map(float, time2.split(':'))\n",
    "    total_seconds += hours * 3600 + minutes * 60 + seconds\n",
    "\n",
    "    hours_total = int(total_seconds // 3600)\n",
    "    minutes_total = int((total_seconds % 3600) // 60)\n",
    "    seconds_total = total_seconds % 60\n",
    "\n",
    "    return f\"{hours_total:02}:{minutes_total:02}:{seconds_total:06.3f}\"\n",
    "\n",
    "# Add time_new_formatted to time_given_formatted\n",
    "result_time = add_times(time_given_formatted, time_new_formatted)\n",
    "\n",
    "print(f\"Resultant time: {result_time}\")\n",
    "\n",
    "\n",
    "print(f\"Time for {time_new_seconds} seconds: {hours_new} hours {minutes_new} minutes {seconds_new:.3f} seconds\")\n"
   ]
  },
  {
   "cell_type": "code",
   "execution_count": 28,
   "metadata": {},
   "outputs": [
    {
     "name": "stdout",
     "output_type": "stream",
     "text": [
      "Date Only: 2023-08-09\n",
      "Start time: 15:34:55\n",
      "Resultant time: 16:11:26.584\n",
      "Resultant DateTime String: 2023-08-09T16:11:26.584000\n",
      "Resultant DateTime: 2023-08-09 16:11:26.584000\n",
      "Time for 12632.8221645071 seconds: 0 hours 36 minutes 31.584 seconds\n"
     ]
    }
   ],
   "source": [
    "from datetime import datetime\n",
    "\n",
    "# Given datetime information\n",
    "given_datetime_str = '2023-08-09T15:34:55+0100'\n",
    "\n",
    "# Parse the string into a datetime object\n",
    "given_datetime = datetime.strptime(given_datetime_str, '%Y-%m-%dT%H:%M:%S%z')\n",
    "\n",
    "# Extract only the date portion (year-month-day)\n",
    "date_only = given_datetime.date()\n",
    "\n",
    "print(f\"Date Only: {date_only}\")\n",
    "\n",
    "# Given values\n",
    "time_given_seconds = 9731.5453469964\n",
    "time_given_formatted = \"15:34:55\"\n",
    "print(f\"Start time: {time_given_formatted}\")\n",
    "\n",
    "# Convert time to total seconds\n",
    "hours, minutes, seconds = map(float, time_given_formatted.split(':'))\n",
    "time_given_total_seconds = hours * 3600 + minutes * 60 + seconds\n",
    "\n",
    "# Calculate the ratio of time to seconds\n",
    "ratio = time_given_seconds / time_given_total_seconds\n",
    "\n",
    "# Time in seconds for 12632.8221645071 seconds\n",
    "time_new_seconds = 12632.8221645071\n",
    "\n",
    "# Calculate the time for the new seconds\n",
    "time_new = ratio * time_new_seconds\n",
    "\n",
    "# Convert seconds back to hours, minutes, and seconds\n",
    "hours_new = int(time_new / 3600)\n",
    "minutes_new = int((time_new % 3600) / 60)\n",
    "seconds_new = time_new % 60\n",
    "\n",
    "# Format the time as \"HH:MM:SS.sss\"\n",
    "time_new_formatted = f\"{hours_new:02}:{minutes_new:02}:{seconds_new:06.3f}\"\n",
    "\n",
    "# Function to add two times in HH:MM:SS.sss format\n",
    "def add_times(time1, time2):\n",
    "    hours, minutes, seconds = map(float, time1.split(':'))\n",
    "    total_seconds = hours * 3600 + minutes * 60 + seconds\n",
    "\n",
    "    hours, minutes, seconds = map(float, time2.split(':'))\n",
    "    total_seconds += hours * 3600 + minutes * 60 + seconds\n",
    "\n",
    "    hours_total = int(total_seconds // 3600)\n",
    "    minutes_total = int((total_seconds % 3600) // 60)\n",
    "    seconds_total = total_seconds % 60\n",
    "\n",
    "    return f\"{hours_total:02}:{minutes_total:02}:{seconds_total:06.3f}\"\n",
    "\n",
    "# Add time_new_formatted to time_given_formatted\n",
    "result_time = add_times(time_given_formatted, time_new_formatted)\n",
    "\n",
    "print(f\"Resultant time: {result_time}\")\n",
    "\n",
    "# Combine date and time to create a new datetime object\n",
    "resultant_datetime = datetime.combine(given_datetime.date(), datetime.strptime(result_time, '%H:%M:%S.%f').time())\n",
    "# Format the resultant_datetime into the desired string format\n",
    "resultant_datetime_str = resultant_datetime.strftime('%Y-%m-%dT%H:%M:%S.%f')\n",
    "\n",
    "print(f\"Resultant DateTime String: {resultant_datetime_str}\")\n",
    "\n",
    "print(f\"Resultant DateTime: {resultant_datetime}\")\n",
    "\n",
    "print(f\"Time for {time_new_seconds} seconds: {hours_new} hours {minutes_new} minutes {seconds_new:.3f} seconds\")\n"
   ]
  },
  {
   "cell_type": "code",
   "execution_count": 31,
   "metadata": {},
   "outputs": [
    {
     "name": "stdout",
     "output_type": "stream",
     "text": [
      "Date Only: 2023-08-09\n",
      "Start time: 15:34:55.000\n",
      "Resultant time: 16:11:26.584\n",
      "Resultant DateTime String: 2023/08/09 16:11:26.000\n",
      "Resultant DateTime: 2023-08-09 16:11:26.584000\n",
      "Time for 12632.8221645071 seconds: 0 hours 36 minutes 31.584 seconds\n"
     ]
    }
   ],
   "source": [
    "from datetime import datetime\n",
    "\n",
    "# Given datetime information\n",
    "given_datetime_str = '2023-08-09T15:34:55+0100'\n",
    "\n",
    "# Parse the string into a datetime object\n",
    "given_datetime = datetime.strptime(given_datetime_str, '%Y-%m-%dT%H:%M:%S%z')\n",
    "\n",
    "# Extract time info from given_datetime_str and use it as time_given_formatted\n",
    "time_given_formatted = given_datetime.strftime('%H:%M:%S.%f')[:-3]\n",
    "\n",
    "# Extract only the date portion (year-month-day)\n",
    "date_only = given_datetime.date()\n",
    "\n",
    "print(f\"Date Only: {date_only}\")\n",
    "\n",
    "# Given values\n",
    "time_given_seconds = 9731.5453469964\n",
    "\n",
    "print(f\"Start time: {time_given_formatted}\")\n",
    "\n",
    "# Convert time to total seconds\n",
    "hours, minutes, seconds = map(float, time_given_formatted.split(':'))\n",
    "time_given_total_seconds = hours * 3600 + minutes * 60 + seconds\n",
    "\n",
    "# Calculate the ratio of time to seconds\n",
    "ratio = time_given_seconds / time_given_total_seconds\n",
    "\n",
    "# Time in seconds for 12632.8221645071 seconds\n",
    "time_new_seconds = 12632.8221645071\n",
    "\n",
    "# Calculate the time for the new seconds\n",
    "time_new = ratio * time_new_seconds\n",
    "\n",
    "# Convert seconds back to hours, minutes, and seconds\n",
    "hours_new = int(time_new / 3600)\n",
    "minutes_new = int((time_new % 3600) / 60)\n",
    "seconds_new = time_new % 60\n",
    "\n",
    "# Format the time as \"HH:MM:SS.sss\"\n",
    "time_new_formatted = f\"{hours_new:02}:{minutes_new:02}:{seconds_new:06.3f}\"\n",
    "\n",
    "# Function to add two times in HH:MM:SS.sss format\n",
    "def add_times(time1, time2):\n",
    "    hours, minutes, seconds = map(float, time1.split(':'))\n",
    "    total_seconds = hours * 3600 + minutes * 60 + seconds\n",
    "\n",
    "    hours, minutes, seconds = map(float, time2.split(':'))\n",
    "    total_seconds += hours * 3600 + minutes * 60 + seconds\n",
    "\n",
    "    hours_total = int(total_seconds // 3600)\n",
    "    minutes_total = int((total_seconds % 3600) // 60)\n",
    "    seconds_total = total_seconds % 60\n",
    "\n",
    "    return f\"{hours_total:02}:{minutes_total:02}:{seconds_total:06.3f}\"\n",
    "\n",
    "# Add time_new_formatted to time_given_formatted\n",
    "result_time = add_times(time_given_formatted, time_new_formatted)\n",
    "\n",
    "print(f\"Resultant time: {result_time}\")\n",
    "\n",
    "# Combine date and time to create a new datetime object\n",
    "resultant_datetime = datetime.combine(given_datetime.date(), datetime.strptime(result_time, '%H:%M:%S.%f').time())\n",
    "# Format the resultant_datetime into the desired string format yyyy/mm/dd hh:mm:ss.000\n",
    "resultant_datetime_str = resultant_datetime.strftime('%Y/%m/%d %H:%M:%S.000')\n",
    "\n",
    "\n",
    "print(f\"Resultant DateTime String: {resultant_datetime_str}\")\n",
    "\n",
    "print(f\"Resultant DateTime: {resultant_datetime}\")\n",
    "\n",
    "print(f\"Time for {time_new_seconds} seconds: {hours_new} hours {minutes_new} minutes {seconds_new:.3f} seconds\")\n"
   ]
  }
 ],
 "metadata": {
  "kernelspec": {
   "display_name": "TF2",
   "language": "python",
   "name": "python3"
  },
  "language_info": {
   "codemirror_mode": {
    "name": "ipython",
    "version": 3
   },
   "file_extension": ".py",
   "mimetype": "text/x-python",
   "name": "python",
   "nbconvert_exporter": "python",
   "pygments_lexer": "ipython3",
   "version": "3.9.12"
  },
  "orig_nbformat": 4
 },
 "nbformat": 4,
 "nbformat_minor": 2
}
