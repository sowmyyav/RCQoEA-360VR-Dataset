{
 "cells": [
  {
   "cell_type": "code",
   "execution_count": null,
   "metadata": {},
   "outputs": [
    {
     "name": "stdout",
     "output_type": "stream",
     "text": [
      "Filtered data between 2023-08-12 17:02:30 and 2023-08-12 17:07:30 written to ecg_P28_baseline_2023_08_12 17_02_30.csv.\n"
     ]
    }
   ],
   "source": [
    "import os\n",
    "import csv\n",
    "import datetime\n",
    "\n",
    "directory = 'C:/Users/Sowmya/QOE_CWI/Selected_PID_data/P1/RCQoEA data/'\n",
    "\n",
    "# List all files in the directory\n",
    "files = os.listdir(directory)\n",
    "\n",
    "# Iterate through the files in the directory\n",
    "for file_name in files:\n",
    "    if file_name.endswith('.txt') and file_name.startswith('PostQuestion_'):\n",
    "        # Split the filename by underscores and remove the file extension\n",
    "        file_parts = file_name.replace('.txt', '').split('_')\n",
    "\n",
    "        # Extract the timestamp and other details\n",
    "        participant_id = file_parts[1]\n",
    "        video_id = file_parts[2]\n",
    "        date_time= file_parts[3]  # Includes the date and time together\n",
    "        \n",
    "        # Extract the date and time from the timestamp\n",
    "        year = date_time[:4]\n",
    "        month = date_time[4:6]\n",
    "        date = date_time[6:8]\n",
    "        hour = date_time[9:11]  # Removing 'T' from the timestamp\n",
    "        minute = date_time[11:13]\n",
    "        second = date_time[13:15]\n",
    "        # Create the full file path\n",
    "        file_path = os.path.join(directory, file_name)\n",
    "\n",
    "        # Open and read the file contents\n",
    "        with open(file_path, 'r') as file:\n",
    "            content = file.read()\n",
    "            # Process the content as needed\n",
    "            # Example: Print the content of the file along with the extracted details\n",
    "            print(f\"\\nFile: {file_name}\")\n",
    "            \n",
    "            # Splitting the content by newline character to get individual lines\n",
    "            lines = content.split('\\n')\n",
    " \n",
    "\n",
    "\n",
    "'''\n",
    "# Write the filtered data to a CSV file\n",
    "        \n",
    "with open(file_path, 'w', newline='') as csvfile:\n",
    "    csv_writer = csv.writer(csvfile)\n",
    "    csv_writer.writerow(headers[1:])  # Write header\n",
    "    csv_writer.writerows(filtered_data)\n",
    "\n",
    "print(f\"Filtered data between {start_time} and {stop_time} written to {filename}.\")                \n",
    "'''\n",
    "            "
   ]
  }
 ],
 "metadata": {
  "kernelspec": {
   "display_name": "TF2",
   "language": "python",
   "name": "python3"
  },
  "language_info": {
   "codemirror_mode": {
    "name": "ipython",
    "version": 3
   },
   "file_extension": ".py",
   "mimetype": "text/x-python",
   "name": "python",
   "nbconvert_exporter": "python",
   "pygments_lexer": "ipython3",
   "version": "3.9.12"
  }
 },
 "nbformat": 4,
 "nbformat_minor": 2
}
