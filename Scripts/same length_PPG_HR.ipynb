{
 "cells": [
  {
   "cell_type": "code",
   "execution_count": 1,
   "metadata": {},
   "outputs": [],
   "source": [
    "import pandas as pd \n",
    "import matplotlib.pyplot as plt\n",
    "import joblib\n",
    "import csv\n",
    "\n",
    "# Load the CSV file into a Pandas DataFrame\n",
    "gsr_data_all = pd.read_csv('/home/sowmya/QOE_CWI/Selected_PID_data/PPG_HR_merged_all_data.csv', header=None)\n",
    "# Assuming ecg_data_all is a list/array containing ECG data for multiple participants\n",
    "\n",
    "# Display the first few rows of the DataFrame to verify the data has been loaded\n",
    "#print(ecg_data_all.head())\n",
    "\n",
    "#num_participants = len(ecg_data_all)\n",
    "# Remove the second column (index 1)\n",
    "gsr_data_all = gsr_data_all.drop(gsr_data_all.columns[0], axis=1)\n",
    "\n",
    "desired_length = 3768\n",
    "# Function to trim NaN values beyond the desired length in each row\n",
    "def trim_nan_values(row):\n",
    "    if len(row) > desired_length:\n",
    "        return row[:desired_length]\n",
    "    else:\n",
    "        return row\n",
    "\n",
    "# Apply the function to each row in the DataFrame\n",
    "df_trimmed = gsr_data_all.apply(trim_nan_values, axis=1)\n",
    "\n",
    "#Check if input contains zero and infinity or a value too large\n",
    "#np.count_nonzero(np.isnan(gsr_data))\n",
    "#np.count_nonzero(np.isinf(ecg_data))\n",
    "\n",
    "\n",
    "\n",
    "# Create the filename\n",
    "filename = f\"/home/sowmya/QOE_CWI/Selected_PID_data/PPG_HR_equal_length_data.csv\"\n",
    "\n",
    "# Write the DataFrame to a CSV file\n",
    "df_trimmed.to_csv(filename, index=False)        \n",
    "# Write the filtered data to a CSV file\n",
    "\n",
    "          "
   ]
  }
 ],
 "metadata": {
  "kernelspec": {
   "display_name": "TF2",
   "language": "python",
   "name": "python3"
  },
  "language_info": {
   "codemirror_mode": {
    "name": "ipython",
    "version": 3
   },
   "file_extension": ".py",
   "mimetype": "text/x-python",
   "name": "python",
   "nbconvert_exporter": "python",
   "pygments_lexer": "ipython3",
   "version": "3.8.10"
  }
 },
 "nbformat": 4,
 "nbformat_minor": 2
}
